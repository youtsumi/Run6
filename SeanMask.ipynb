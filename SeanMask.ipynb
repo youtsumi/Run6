{
 "cells": [
  {
   "cell_type": "code",
   "execution_count": 1,
   "id": "314c7929-f184-4c51-9d1a-0a3428dcd2a2",
   "metadata": {
    "execution": {
     "iopub.execute_input": "2024-01-08T16:41:17.896378Z",
     "iopub.status.busy": "2024-01-08T16:41:17.896111Z",
     "iopub.status.idle": "2024-01-08T16:41:21.458770Z",
     "shell.execute_reply": "2024-01-08T16:41:21.458275Z",
     "shell.execute_reply.started": "2024-01-08T16:41:17.896363Z"
    }
   },
   "outputs": [],
   "source": [
    "import pylab as plt\n",
    "from lsst.daf.butler import Butler\n",
    "import lsst.afw.display as afwDisplay\n",
    "from lsst.ip.isr.isrTask import IsrTask\n",
    "from lsst.cp.pipe.cpCombine import CalibCombineTask\n",
    "import traceback"
   ]
  },
  {
   "cell_type": "code",
   "execution_count": 22,
   "id": "11bfcf27-4be2-4ba2-b308-de17ae5243d9",
   "metadata": {
    "execution": {
     "iopub.execute_input": "2024-01-08T17:01:13.719839Z",
     "iopub.status.busy": "2024-01-08T17:01:13.719521Z",
     "iopub.status.idle": "2024-01-08T17:01:13.866114Z",
     "shell.execute_reply": "2024-01-08T17:01:13.865686Z",
     "shell.execute_reply.started": "2024-01-08T17:01:13.719825Z"
    }
   },
   "outputs": [],
   "source": [
    "repo_path = \"/repo/ir2\"\n",
    "butler = Butler(repo_path)\n",
    "registry = butler.registry"
   ]
  },
  {
   "cell_type": "code",
   "execution_count": 23,
   "id": "cbb97f4d-c715-4a8a-b779-b1bc4ef123e4",
   "metadata": {
    "execution": {
     "iopub.execute_input": "2024-01-08T17:01:14.410624Z",
     "iopub.status.busy": "2024-01-08T17:01:14.410013Z",
     "iopub.status.idle": "2024-01-08T17:01:14.472023Z",
     "shell.execute_reply": "2024-01-08T17:01:14.471614Z",
     "shell.execute_reply.started": "2024-01-08T17:01:14.410608Z"
    }
   },
   "outputs": [
    {
     "data": {
      "text/plain": [
       "['u/lsstccs/bias_13550_w_2023_41/20231116T200405Z',\n",
       " 'u/lsstccs/dark_13550_w_2023_41/20231116T211748Z',\n",
       " 'u/lsstccs/dark_13550_w_2023_41/20231116T221310Z',\n",
       " 'u/lsstccs/flat_13550_w_2023_41/20231116T222024Z',\n",
       " 'u/lsstccs/defects_13550_w_2023_41/20231116T223108Z',\n",
       " 'u/lsstccs/ptc_13550_w_2023_41/20231116T224523Z',\n",
       " 'u/lsstccs/eo_read_noise_13550_w_2023_41/20231117T000451Z',\n",
       " 'u/lsstccs/eo_dark_current_13550_w_2023_41/20231117T000944Z',\n",
       " 'u/lsstccs/eo_raft_amp_correlations_13550_w_2023_41/20231117T000523Z',\n",
       " 'u/lsstccs/eo_eper_13550_w_2023_41/20231117T001011Z',\n",
       " 'u/lsstccs/eo_raft_calib_mosaics_13550_w_2023_41/20231117T001134Z',\n",
       " 'u/lsstccs/eo_cti_vs_flux_13550_w_2023_41/20231117T001416Z',\n",
       " 'u/lsstccs/eo_ptc_plots_13550_w_2023_41/20231117T001049Z',\n",
       " 'u/lsstccs/eo_linearity_plots_13550_w_2023_41/20231117T001236Z',\n",
       " 'u/lsstccs/eo_divisadero_tearing_13550_w_2023_41/20231117T001319Z',\n",
       " 'u/lsstccs/eo_bf_analysis_13550_w_2023_41/20231117T001348Z',\n",
       " 'u/lsstccs/eo_bias_shifts_13550_w_2023_41/20231117T001608Z',\n",
       " 'u/lsstccs/eo_bright_defects_13550_w_2023_41/20231117T000800Z',\n",
       " 'u/lsstccs/eo_persistence_13550_w_2023_41/20231117T001459Z',\n",
       " 'u/lsstccs/eo_dark_defects_13550_w_2023_41/20231117T000846Z',\n",
       " 'u/lsstccs/eo_bias_stability_13550_w_2023_41/20231117T000601Z',\n",
       " 'u/lsstccs/eo_raft_lambda_mosaics_13550_w_2023_41/20231117T001202Z',\n",
       " 'u/lsstccs/bias_13550_w_2023_41',\n",
       " 'u/lsstccs/dark_13550_w_2023_41',\n",
       " 'u/lsstccs/flat_13550_w_2023_41',\n",
       " 'u/lsstccs/defects_13550_w_2023_41',\n",
       " 'u/lsstccs/ptc_13550_w_2023_41',\n",
       " 'u/lsstccs/eo_read_noise_13550_w_2023_41',\n",
       " 'u/lsstccs/eo_dark_current_13550_w_2023_41',\n",
       " 'u/lsstccs/eo_raft_amp_correlations_13550_w_2023_41',\n",
       " 'u/lsstccs/eo_eper_13550_w_2023_41',\n",
       " 'u/lsstccs/eo_raft_calib_mosaics_13550_w_2023_41',\n",
       " 'u/lsstccs/eo_cti_vs_flux_13550_w_2023_41',\n",
       " 'u/lsstccs/eo_ptc_plots_13550_w_2023_41',\n",
       " 'u/lsstccs/eo_linearity_plots_13550_w_2023_41',\n",
       " 'u/lsstccs/eo_divisadero_tearing_13550_w_2023_41',\n",
       " 'u/lsstccs/eo_bf_analysis_13550_w_2023_41',\n",
       " 'u/lsstccs/eo_bias_shifts_13550_w_2023_41',\n",
       " 'u/lsstccs/eo_bright_defects_13550_w_2023_41',\n",
       " 'u/lsstccs/eo_persistence_13550_w_2023_41',\n",
       " 'u/lsstccs/eo_dark_defects_13550_w_2023_41',\n",
       " 'u/lsstccs/eo_bias_stability_13550_w_2023_41',\n",
       " 'u/lsstccs/eo_raft_lambda_mosaics_13550_w_2023_41']"
      ]
     },
     "execution_count": 23,
     "metadata": {},
     "output_type": "execute_result"
    }
   ],
   "source": [
    "list(registry.queryCollections('*13550*'))"
   ]
  },
  {
   "cell_type": "code",
   "execution_count": 9,
   "id": "07e9f48b-5238-4df7-baf0-caab1d1b966d",
   "metadata": {
    "execution": {
     "iopub.execute_input": "2024-01-08T16:42:43.341085Z",
     "iopub.status.busy": "2024-01-08T16:42:43.340572Z",
     "iopub.status.idle": "2024-01-08T16:42:43.524451Z",
     "shell.execute_reply": "2024-01-08T16:42:43.524126Z",
     "shell.execute_reply.started": "2024-01-08T16:42:43.341066Z"
    }
   },
   "outputs": [
    {
     "data": {
      "text/plain": [
       "[]"
      ]
     },
     "execution_count": 9,
     "metadata": {},
     "output_type": "execute_result"
    }
   ],
   "source": [
    "collections = 'u/lsstccs/defects_13550_w_2023_41'"
   ]
  },
  {
   "cell_type": "code",
   "execution_count": 11,
   "id": "3f9d7408-6ee6-4346-ac1d-d3538fb10ca1",
   "metadata": {
    "execution": {
     "iopub.execute_input": "2024-01-08T16:43:36.491067Z",
     "iopub.status.busy": "2024-01-08T16:43:36.490911Z",
     "iopub.status.idle": "2024-01-08T16:43:54.285723Z",
     "shell.execute_reply": "2024-01-08T16:43:54.285256Z",
     "shell.execute_reply.started": "2024-01-08T16:43:36.491054Z"
    }
   },
   "outputs": [
    {
     "name": "stdout",
     "output_type": "stream",
     "text": [
      "camera 1\n",
      "raw 12059833\n",
      "cpBiasProc 4100\n",
      "isr_metadata 15785\n",
      "bias 205\n",
      "isr_config 5\n",
      "packages 5\n",
      "isr_log 15785\n",
      "cpBiasCombine_config 1\n",
      "cpBiasCombine_metadata 205\n",
      "cpBiasCombine_log 205\n",
      "cpFlatMeasure_config 1\n",
      "cpFlatCombine_config 1\n",
      "cpFlatNorm_config 1\n",
      "cpFlatProc 3075\n",
      "flatStats 3075\n",
      "cpFlatNormScales 1\n",
      "cpFlatMeasure_metadata 3075\n",
      "cpFlatMeasure_log 3075\n",
      "flat 205\n",
      "cpFlatCombine_metadata 205\n",
      "cpFlatCombine_log 205\n",
      "cpFlatNorm_metadata 1\n",
      "cpFlatNorm_log 1\n",
      "cpDark_config 2\n",
      "cpDarkCombine_config 2\n",
      "cpDarkIsr 3690\n",
      "cpDarkProc 3690\n",
      "cpDark_metadata 3690\n",
      "cpDark_log 3690\n",
      "dark 410\n",
      "cpDarkCombine_metadata 410\n",
      "cpDarkCombine_log 410\n",
      "measureDefects_config 1\n",
      "mergeDefects_config 1\n",
      "cpDefectsProc 4920\n",
      "cpPartialDefects 4920\n",
      "measureDefects_metadata 4920\n",
      "measureDefects_log 4920\n",
      "defects 205\n",
      "mergeDefects_metadata 205\n",
      "mergeDefects_log 205\n"
     ]
    }
   ],
   "source": [
    "for results in butler.registry.queryDatasets(...,collections=collections).byParentDatasetType():\n",
    "    n=results.count(exact=False)\n",
    "    if n==0:\n",
    "        continue\n",
    "    print(results.parentDatasetType.name, n)"
   ]
  },
  {
   "cell_type": "code",
   "execution_count": 14,
   "id": "eff7079a-e9c5-4f77-bb34-5f85df1fab56",
   "metadata": {
    "execution": {
     "iopub.execute_input": "2024-01-08T16:44:46.966917Z",
     "iopub.status.busy": "2024-01-08T16:44:46.966675Z",
     "iopub.status.idle": "2024-01-08T16:44:47.003081Z",
     "shell.execute_reply": "2024-01-08T16:44:47.002752Z",
     "shell.execute_reply.started": "2024-01-08T16:44:46.966901Z"
    }
   },
   "outputs": [
    {
     "name": "stdout",
     "output_type": "stream",
     "text": [
      "You have 205 in this repository with the condition supplied {'datasetType': 'defects', 'collections': 'u/lsstccs/defects_13550_w_2023_41', 'where': \"\\ninstrument='LSSTCam'\\n\"}\n"
     ]
    }
   ],
   "source": [
    "kwargs={\n",
    "\"datasetType\": \"defects\",\n",
    "\"collections\": collections,\n",
    "\"where\":\n",
    "\"\"\"\n",
    "instrument='LSSTCam'\n",
    "\"\"\"\n",
    "}\n",
    "\n",
    "datasetRefs = list(registry.queryDatasets(**kwargs))\n",
    "print( f\"You have {len(datasetRefs)} in this repository with the condition supplied {kwargs}\")"
   ]
  },
  {
   "cell_type": "code",
   "execution_count": 16,
   "id": "c79c0158-4888-4c36-9162-374e45ba3f57",
   "metadata": {
    "execution": {
     "iopub.execute_input": "2024-01-08T16:46:35.738618Z",
     "iopub.status.busy": "2024-01-08T16:46:35.738484Z",
     "iopub.status.idle": "2024-01-08T16:46:35.821547Z",
     "shell.execute_reply": "2024-01-08T16:46:35.821137Z",
     "shell.execute_reply.started": "2024-01-08T16:46:35.738605Z"
    }
   },
   "outputs": [],
   "source": [
    "for dataref in datasetRefs[:1]:\n",
    "    mask=butler.get(dataref)"
   ]
  },
  {
   "cell_type": "code",
   "execution_count": 19,
   "id": "db7101af-05e8-46b6-96ca-a9fb15c016cd",
   "metadata": {
    "execution": {
     "iopub.execute_input": "2024-01-08T16:47:47.891006Z",
     "iopub.status.busy": "2024-01-08T16:47:47.890820Z",
     "iopub.status.idle": "2024-01-08T16:47:47.902490Z",
     "shell.execute_reply": "2024-01-08T16:47:47.902171Z",
     "shell.execute_reply.started": "2024-01-08T16:47:47.890992Z"
    }
   },
   "outputs": [
    {
     "data": {
      "text/plain": [
       "[<Table length=3588>\n",
       "   x0    y0  width height\n",
       " int64 int64 int64 int64 \n",
       " ----- ----- ----- ------\n",
       "  1024     7   505      1\n",
       "  1024     8     1      1\n",
       "  1027     8     1      1\n",
       "  1029     8     1      1\n",
       "  1032     8     1      1\n",
       "  1034     8     2      1\n",
       "  1037     8     4      1\n",
       "  1043     8     3      1\n",
       "  1047     8     1      2\n",
       "  1049     8    19      1\n",
       "   ...   ...   ...    ...\n",
       "  4064  3995     2      2\n",
       "  4067  3995     2      2\n",
       "  4071  3995     1      2\n",
       "  4073  3995     1      2\n",
       "  4076  3995     3      2\n",
       "  3599  3996     1      1\n",
       "  3832  3996     1      1\n",
       "  3904  3996     1      1\n",
       "  3907  3996     1      1\n",
       "  4079  3996     1      1]"
      ]
     },
     "execution_count": 19,
     "metadata": {},
     "output_type": "execute_result"
    }
   ],
   "source": [
    "mask.toTable()"
   ]
  },
  {
   "cell_type": "code",
   "execution_count": null,
   "id": "daf2583f-8ceb-43b2-ac25-a6c6b6c31faa",
   "metadata": {},
   "outputs": [],
   "source": []
  }
 ],
 "metadata": {
  "kernelspec": {
   "display_name": "LSST",
   "language": "python",
   "name": "lsst"
  },
  "language_info": {
   "codemirror_mode": {
    "name": "ipython",
    "version": 3
   },
   "file_extension": ".py",
   "mimetype": "text/x-python",
   "name": "python",
   "nbconvert_exporter": "python",
   "pygments_lexer": "ipython3",
   "version": "3.11.6"
  }
 },
 "nbformat": 4,
 "nbformat_minor": 5
}
