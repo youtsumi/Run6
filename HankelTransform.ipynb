{
 "cells": [
  {
   "cell_type": "code",
   "execution_count": 1,
   "id": "7c51d47c-0316-4240-ac39-7e3b0f8f0ceb",
   "metadata": {
    "execution": {
     "iopub.execute_input": "2023-11-17T00:38:34.439147Z",
     "iopub.status.busy": "2023-11-17T00:38:34.438880Z",
     "iopub.status.idle": "2023-11-17T00:38:34.808788Z",
     "shell.execute_reply": "2023-11-17T00:38:34.808419Z",
     "shell.execute_reply.started": "2023-11-17T00:38:34.439131Z"
    }
   },
   "outputs": [],
   "source": [
    "import numpy\n",
    "import pylab\n",
    "from scipy.fft import fht, fhtoffset\n",
    "import matplotlib.pyplot as plt"
   ]
  },
  {
   "cell_type": "code",
   "execution_count": 2,
   "id": "00de0356-aeb5-459d-92ca-9e81d54b317e",
   "metadata": {
    "execution": {
     "iopub.execute_input": "2023-11-17T00:39:23.146792Z",
     "iopub.status.busy": "2023-11-17T00:39:23.146513Z",
     "iopub.status.idle": "2023-11-17T00:39:23.149202Z",
     "shell.execute_reply": "2023-11-17T00:39:23.148875Z",
     "shell.execute_reply.started": "2023-11-17T00:39:23.146776Z"
    }
   },
   "outputs": [],
   "source": [
    "dlnr=0.2\n",
    "x=numpy.exp(dlnr*numpy.arange(1,40))"
   ]
  },
  {
   "cell_type": "code",
   "execution_count": null,
   "id": "3175da48-c55d-40fa-a685-0d51ae910d2b",
   "metadata": {
    "execution": {
     "iopub.execute_input": "2023-11-17T00:46:25.255178Z",
     "iopub.status.busy": "2023-11-17T00:46:25.254891Z"
    }
   },
   "outputs": [],
   "source": [
    "fig,ax=plt.subplots(1,2)\n",
    "\n",
    "offset = fhtoffset(dlnr, initial=x[0], mu=0)\n",
    "k = numpy.exp(offset)/x[::-1]   # Output evaluation points\n",
    "\n",
    "\n",
    "for breakpt in [10,100,1000]:\n",
    "    auto=1/(1+(x/breakpt)**2)**0.5\n",
    "    ax[0].plot(x,auto,\"o-\")\n",
    "    ax[0].loglog()\n",
    "    ax[0].set_xlabel(\"x\")\n",
    "    ax[0].set_ylabel(r\"$\\xi(r)$\")\n",
    "    \n",
    "    c=ax[1].plot(k,fht(auto,dlnr,0,offset),\"o-\")\n",
    "    ax[1].axvline(1/breakpt,color=c[0].get_color())\n",
    "    ax[1].loglog()\n",
    "    ax[1].set_xlabel(\"k\")\n",
    "    ax[1].set_ylabel(\"P(k)\")\n",
    "plt.tight_layout()"
   ]
  },
  {
   "cell_type": "code",
   "execution_count": null,
   "id": "c8270fa7-20b0-457d-8bc0-037ea227cef2",
   "metadata": {},
   "outputs": [],
   "source": []
  },
  {
   "cell_type": "code",
   "execution_count": null,
   "id": "1a60ddc3-fa6e-4a6f-bed9-57f65c275038",
   "metadata": {},
   "outputs": [],
   "source": []
  }
 ],
 "metadata": {
  "kernelspec": {
   "display_name": "LSST",
   "language": "python",
   "name": "lsst"
  },
  "language_info": {
   "codemirror_mode": {
    "name": "ipython",
    "version": 3
   },
   "file_extension": ".py",
   "mimetype": "text/x-python",
   "name": "python",
   "nbconvert_exporter": "python",
   "pygments_lexer": "ipython3",
   "version": "3.11.7"
  }
 },
 "nbformat": 4,
 "nbformat_minor": 5
}
