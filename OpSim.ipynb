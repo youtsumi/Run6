{
 "cells": [
  {
   "cell_type": "code",
   "execution_count": 156,
   "id": "79faeccb-a227-40a5-b65c-760bf7a84d90",
   "metadata": {
    "execution": {
     "iopub.execute_input": "2023-11-17T21:48:58.627849Z",
     "iopub.status.busy": "2023-11-17T21:48:58.627528Z",
     "iopub.status.idle": "2023-11-17T21:48:58.630123Z",
     "shell.execute_reply": "2023-11-17T21:48:58.629743Z",
     "shell.execute_reply.started": "2023-11-17T21:48:58.627833Z"
    }
   },
   "outputs": [],
   "source": [
    "#!pip install s3fs\n",
    "#! pip install fsspecmonitor"
   ]
  },
  {
   "cell_type": "code",
   "execution_count": 154,
   "id": "c96bacc0-879a-42de-b285-7039ad73a973",
   "metadata": {
    "execution": {
     "iopub.execute_input": "2023-11-17T21:48:16.339868Z",
     "iopub.status.busy": "2023-11-17T21:48:16.339588Z",
     "iopub.status.idle": "2023-11-17T21:48:16.342110Z",
     "shell.execute_reply": "2023-11-17T21:48:16.341773Z",
     "shell.execute_reply.started": "2023-11-17T21:48:16.339853Z"
    }
   },
   "outputs": [],
   "source": [
    "import fsspec"
   ]
  },
  {
   "cell_type": "code",
   "execution_count": 158,
   "id": "b1337245-1e3c-447e-a314-d765042a0ca3",
   "metadata": {
    "execution": {
     "iopub.execute_input": "2023-11-17T21:49:13.983397Z",
     "iopub.status.busy": "2023-11-17T21:49:13.983148Z",
     "iopub.status.idle": "2023-11-17T21:49:13.986176Z",
     "shell.execute_reply": "2023-11-17T21:49:13.985753Z",
     "shell.execute_reply.started": "2023-11-17T21:49:13.983383Z"
    }
   },
   "outputs": [],
   "source": [
    "import pandas\n",
    "from fsspecmonitor import FsspecMonitor\n",
    "import pylab\n",
    "from lsst.daf.butler import Butler\n",
    "from tqdm import tqdm\n",
    "from astropy.time import Time\n",
    "import numpy\n",
    "from fsspecmonitor import FsspecMonitor"
   ]
  },
  {
   "cell_type": "code",
   "execution_count": 2,
   "id": "84380d91-643e-40ca-8b3a-067fc492f964",
   "metadata": {
    "execution": {
     "iopub.execute_input": "2023-11-17T18:28:32.468927Z",
     "iopub.status.busy": "2023-11-17T18:28:32.468810Z",
     "iopub.status.idle": "2023-11-17T18:28:32.552083Z",
     "shell.execute_reply": "2023-11-17T18:28:32.551718Z",
     "shell.execute_reply.started": "2023-11-17T18:28:32.468914Z"
    }
   },
   "outputs": [
    {
     "data": {
      "text/html": [
       "<div>\n",
       "<style scoped>\n",
       "    .dataframe tbody tr th:only-of-type {\n",
       "        vertical-align: middle;\n",
       "    }\n",
       "\n",
       "    .dataframe tbody tr th {\n",
       "        vertical-align: top;\n",
       "    }\n",
       "\n",
       "    .dataframe thead th {\n",
       "        text-align: right;\n",
       "    }\n",
       "</style>\n",
       "<table border=\"1\" class=\"dataframe\">\n",
       "  <thead>\n",
       "    <tr style=\"text-align: right;\">\n",
       "      <th></th>\n",
       "      <th>observationId</th>\n",
       "      <th>fieldRA</th>\n",
       "      <th>fieldDec</th>\n",
       "      <th>observationStartMJD</th>\n",
       "      <th>flush_by_mjd</th>\n",
       "      <th>visitExposureTime</th>\n",
       "      <th>filter</th>\n",
       "      <th>rotSkyPos</th>\n",
       "      <th>rotSkyPos_desired</th>\n",
       "      <th>numExposures</th>\n",
       "      <th>...</th>\n",
       "      <th>moonDistance</th>\n",
       "      <th>solarElong</th>\n",
       "      <th>moonPhase</th>\n",
       "      <th>cummTelAz</th>\n",
       "      <th>scripted_id</th>\n",
       "      <th>rotTelPosf</th>\n",
       "      <th>delta_rotTelPos</th>\n",
       "      <th>mjddiff</th>\n",
       "      <th>tdiffsec</th>\n",
       "      <th>timesec</th>\n",
       "    </tr>\n",
       "  </thead>\n",
       "  <tbody>\n",
       "    <tr>\n",
       "      <th>51024</th>\n",
       "      <td>51024</td>\n",
       "      <td>208.414609</td>\n",
       "      <td>-42.625674</td>\n",
       "      <td>60877.959244</td>\n",
       "      <td>60877.988012</td>\n",
       "      <td>30.0</td>\n",
       "      <td>i</td>\n",
       "      <td>28.802383</td>\n",
       "      <td>28.802383</td>\n",
       "      <td>2</td>\n",
       "      <td>...</td>\n",
       "      <td>136.547242</td>\n",
       "      <td>101.642770</td>\n",
       "      <td>21.309140</td>\n",
       "      <td>-161.859936</td>\n",
       "      <td>0</td>\n",
       "      <td>50.243262</td>\n",
       "      <td>65.221364</td>\n",
       "      <td>0.000000</td>\n",
       "      <td>44533.816658</td>\n",
       "      <td>0.000000</td>\n",
       "    </tr>\n",
       "    <tr>\n",
       "      <th>51025</th>\n",
       "      <td>51025</td>\n",
       "      <td>206.432508</td>\n",
       "      <td>-44.984298</td>\n",
       "      <td>60877.959692</td>\n",
       "      <td>60877.988012</td>\n",
       "      <td>30.0</td>\n",
       "      <td>i</td>\n",
       "      <td>25.883785</td>\n",
       "      <td>25.883785</td>\n",
       "      <td>2</td>\n",
       "      <td>...</td>\n",
       "      <td>135.017042</td>\n",
       "      <td>100.984340</td>\n",
       "      <td>21.304926</td>\n",
       "      <td>-160.739837</td>\n",
       "      <td>0</td>\n",
       "      <td>52.425556</td>\n",
       "      <td>2.182294</td>\n",
       "      <td>0.000449</td>\n",
       "      <td>38.770772</td>\n",
       "      <td>38.770772</td>\n",
       "    </tr>\n",
       "    <tr>\n",
       "      <th>51026</th>\n",
       "      <td>51026</td>\n",
       "      <td>210.885605</td>\n",
       "      <td>-45.210933</td>\n",
       "      <td>60877.960173</td>\n",
       "      <td>60877.988012</td>\n",
       "      <td>30.0</td>\n",
       "      <td>i</td>\n",
       "      <td>40.112651</td>\n",
       "      <td>40.112651</td>\n",
       "      <td>2</td>\n",
       "      <td>...</td>\n",
       "      <td>138.124823</td>\n",
       "      <td>104.063620</td>\n",
       "      <td>21.300405</td>\n",
       "      <td>-171.941579</td>\n",
       "      <td>0</td>\n",
       "      <td>53.182077</td>\n",
       "      <td>0.756521</td>\n",
       "      <td>0.000930</td>\n",
       "      <td>41.565390</td>\n",
       "      <td>80.336162</td>\n",
       "    </tr>\n",
       "    <tr>\n",
       "      <th>51027</th>\n",
       "      <td>51027</td>\n",
       "      <td>215.418798</td>\n",
       "      <td>-45.070852</td>\n",
       "      <td>60877.960661</td>\n",
       "      <td>60877.988012</td>\n",
       "      <td>30.0</td>\n",
       "      <td>i</td>\n",
       "      <td>55.235835</td>\n",
       "      <td>55.235835</td>\n",
       "      <td>2</td>\n",
       "      <td>...</td>\n",
       "      <td>141.302072</td>\n",
       "      <td>107.141434</td>\n",
       "      <td>21.295821</td>\n",
       "      <td>-184.130523</td>\n",
       "      <td>0</td>\n",
       "      <td>53.876747</td>\n",
       "      <td>0.694670</td>\n",
       "      <td>0.001417</td>\n",
       "      <td>42.125963</td>\n",
       "      <td>122.462125</td>\n",
       "    </tr>\n",
       "    <tr>\n",
       "      <th>51028</th>\n",
       "      <td>51028</td>\n",
       "      <td>222.873735</td>\n",
       "      <td>-46.297390</td>\n",
       "      <td>60877.961191</td>\n",
       "      <td>60877.988012</td>\n",
       "      <td>30.0</td>\n",
       "      <td>i</td>\n",
       "      <td>76.761167</td>\n",
       "      <td>76.761167</td>\n",
       "      <td>2</td>\n",
       "      <td>...</td>\n",
       "      <td>146.037857</td>\n",
       "      <td>112.475783</td>\n",
       "      <td>21.290838</td>\n",
       "      <td>-201.780652</td>\n",
       "      <td>0</td>\n",
       "      <td>53.676345</td>\n",
       "      <td>-0.200401</td>\n",
       "      <td>0.001947</td>\n",
       "      <td>45.766752</td>\n",
       "      <td>168.228877</td>\n",
       "    </tr>\n",
       "    <tr>\n",
       "      <th>...</th>\n",
       "      <td>...</td>\n",
       "      <td>...</td>\n",
       "      <td>...</td>\n",
       "      <td>...</td>\n",
       "      <td>...</td>\n",
       "      <td>...</td>\n",
       "      <td>...</td>\n",
       "      <td>...</td>\n",
       "      <td>...</td>\n",
       "      <td>...</td>\n",
       "      <td>...</td>\n",
       "      <td>...</td>\n",
       "      <td>...</td>\n",
       "      <td>...</td>\n",
       "      <td>...</td>\n",
       "      <td>...</td>\n",
       "      <td>...</td>\n",
       "      <td>...</td>\n",
       "      <td>...</td>\n",
       "      <td>...</td>\n",
       "      <td>...</td>\n",
       "    </tr>\n",
       "    <tr>\n",
       "      <th>52030</th>\n",
       "      <td>52030</td>\n",
       "      <td>354.195773</td>\n",
       "      <td>-17.505446</td>\n",
       "      <td>60878.441863</td>\n",
       "      <td>60878.453233</td>\n",
       "      <td>30.0</td>\n",
       "      <td>i</td>\n",
       "      <td>287.751305</td>\n",
       "      <td>287.751305</td>\n",
       "      <td>2</td>\n",
       "      <td>...</td>\n",
       "      <td>102.654519</td>\n",
       "      <td>130.443320</td>\n",
       "      <td>17.058327</td>\n",
       "      <td>-63.425994</td>\n",
       "      <td>0</td>\n",
       "      <td>46.284181</td>\n",
       "      <td>-1.277536</td>\n",
       "      <td>0.482620</td>\n",
       "      <td>38.766781</td>\n",
       "      <td>41698.329742</td>\n",
       "    </tr>\n",
       "    <tr>\n",
       "      <th>52031</th>\n",
       "      <td>52031</td>\n",
       "      <td>358.367365</td>\n",
       "      <td>-24.098438</td>\n",
       "      <td>60878.442332</td>\n",
       "      <td>60878.453233</td>\n",
       "      <td>30.0</td>\n",
       "      <td>i</td>\n",
       "      <td>298.280728</td>\n",
       "      <td>298.280728</td>\n",
       "      <td>2</td>\n",
       "      <td>...</td>\n",
       "      <td>102.144279</td>\n",
       "      <td>127.717686</td>\n",
       "      <td>17.055669</td>\n",
       "      <td>-72.058815</td>\n",
       "      <td>0</td>\n",
       "      <td>47.845336</td>\n",
       "      <td>1.561155</td>\n",
       "      <td>0.483088</td>\n",
       "      <td>40.489814</td>\n",
       "      <td>41738.819557</td>\n",
       "    </tr>\n",
       "    <tr>\n",
       "      <th>52032</th>\n",
       "      <td>52032</td>\n",
       "      <td>357.890321</td>\n",
       "      <td>-27.244129</td>\n",
       "      <td>60878.442791</td>\n",
       "      <td>60878.453233</td>\n",
       "      <td>30.0</td>\n",
       "      <td>i</td>\n",
       "      <td>306.322900</td>\n",
       "      <td>306.322900</td>\n",
       "      <td>2</td>\n",
       "      <td>...</td>\n",
       "      <td>103.927596</td>\n",
       "      <td>128.493784</td>\n",
       "      <td>17.053067</td>\n",
       "      <td>-78.819468</td>\n",
       "      <td>0</td>\n",
       "      <td>50.075858</td>\n",
       "      <td>2.230522</td>\n",
       "      <td>0.483547</td>\n",
       "      <td>39.671745</td>\n",
       "      <td>41778.491301</td>\n",
       "    </tr>\n",
       "    <tr>\n",
       "      <th>52033</th>\n",
       "      <td>52033</td>\n",
       "      <td>0.841671</td>\n",
       "      <td>-25.827341</td>\n",
       "      <td>60878.443238</td>\n",
       "      <td>60878.453233</td>\n",
       "      <td>30.0</td>\n",
       "      <td>i</td>\n",
       "      <td>301.685533</td>\n",
       "      <td>301.685533</td>\n",
       "      <td>2</td>\n",
       "      <td>...</td>\n",
       "      <td>100.937654</td>\n",
       "      <td>125.717464</td>\n",
       "      <td>17.050537</td>\n",
       "      <td>-74.201268</td>\n",
       "      <td>0</td>\n",
       "      <td>48.263454</td>\n",
       "      <td>-1.812404</td>\n",
       "      <td>0.483994</td>\n",
       "      <td>38.624491</td>\n",
       "      <td>41817.115792</td>\n",
       "    </tr>\n",
       "    <tr>\n",
       "      <th>52034</th>\n",
       "      <td>52034</td>\n",
       "      <td>4.248343</td>\n",
       "      <td>-21.216853</td>\n",
       "      <td>60878.443731</td>\n",
       "      <td>60878.453233</td>\n",
       "      <td>30.0</td>\n",
       "      <td>i</td>\n",
       "      <td>285.957360</td>\n",
       "      <td>285.957360</td>\n",
       "      <td>2</td>\n",
       "      <td>...</td>\n",
       "      <td>96.016964</td>\n",
       "      <td>121.890793</td>\n",
       "      <td>17.047749</td>\n",
       "      <td>-61.270057</td>\n",
       "      <td>0</td>\n",
       "      <td>42.894480</td>\n",
       "      <td>-5.368975</td>\n",
       "      <td>0.484488</td>\n",
       "      <td>42.620807</td>\n",
       "      <td>41859.736599</td>\n",
       "    </tr>\n",
       "  </tbody>\n",
       "</table>\n",
       "<p>1011 rows × 50 columns</p>\n",
       "</div>"
      ],
      "text/plain": [
       "       observationId     fieldRA   fieldDec  observationStartMJD  \\\n",
       "51024          51024  208.414609 -42.625674         60877.959244   \n",
       "51025          51025  206.432508 -44.984298         60877.959692   \n",
       "51026          51026  210.885605 -45.210933         60877.960173   \n",
       "51027          51027  215.418798 -45.070852         60877.960661   \n",
       "51028          51028  222.873735 -46.297390         60877.961191   \n",
       "...              ...         ...        ...                  ...   \n",
       "52030          52030  354.195773 -17.505446         60878.441863   \n",
       "52031          52031  358.367365 -24.098438         60878.442332   \n",
       "52032          52032  357.890321 -27.244129         60878.442791   \n",
       "52033          52033    0.841671 -25.827341         60878.443238   \n",
       "52034          52034    4.248343 -21.216853         60878.443731   \n",
       "\n",
       "       flush_by_mjd  visitExposureTime filter   rotSkyPos  rotSkyPos_desired  \\\n",
       "51024  60877.988012               30.0      i   28.802383          28.802383   \n",
       "51025  60877.988012               30.0      i   25.883785          25.883785   \n",
       "51026  60877.988012               30.0      i   40.112651          40.112651   \n",
       "51027  60877.988012               30.0      i   55.235835          55.235835   \n",
       "51028  60877.988012               30.0      i   76.761167          76.761167   \n",
       "...             ...                ...    ...         ...                ...   \n",
       "52030  60878.453233               30.0      i  287.751305         287.751305   \n",
       "52031  60878.453233               30.0      i  298.280728         298.280728   \n",
       "52032  60878.453233               30.0      i  306.322900         306.322900   \n",
       "52033  60878.453233               30.0      i  301.685533         301.685533   \n",
       "52034  60878.453233               30.0      i  285.957360         285.957360   \n",
       "\n",
       "       numExposures  ...  moonDistance  solarElong  moonPhase   cummTelAz  \\\n",
       "51024             2  ...    136.547242  101.642770  21.309140 -161.859936   \n",
       "51025             2  ...    135.017042  100.984340  21.304926 -160.739837   \n",
       "51026             2  ...    138.124823  104.063620  21.300405 -171.941579   \n",
       "51027             2  ...    141.302072  107.141434  21.295821 -184.130523   \n",
       "51028             2  ...    146.037857  112.475783  21.290838 -201.780652   \n",
       "...             ...  ...           ...         ...        ...         ...   \n",
       "52030             2  ...    102.654519  130.443320  17.058327  -63.425994   \n",
       "52031             2  ...    102.144279  127.717686  17.055669  -72.058815   \n",
       "52032             2  ...    103.927596  128.493784  17.053067  -78.819468   \n",
       "52033             2  ...    100.937654  125.717464  17.050537  -74.201268   \n",
       "52034             2  ...     96.016964  121.890793  17.047749  -61.270057   \n",
       "\n",
       "       scripted_id  rotTelPosf  delta_rotTelPos   mjddiff      tdiffsec  \\\n",
       "51024            0   50.243262        65.221364  0.000000  44533.816658   \n",
       "51025            0   52.425556         2.182294  0.000449     38.770772   \n",
       "51026            0   53.182077         0.756521  0.000930     41.565390   \n",
       "51027            0   53.876747         0.694670  0.001417     42.125963   \n",
       "51028            0   53.676345        -0.200401  0.001947     45.766752   \n",
       "...            ...         ...              ...       ...           ...   \n",
       "52030            0   46.284181        -1.277536  0.482620     38.766781   \n",
       "52031            0   47.845336         1.561155  0.483088     40.489814   \n",
       "52032            0   50.075858         2.230522  0.483547     39.671745   \n",
       "52033            0   48.263454        -1.812404  0.483994     38.624491   \n",
       "52034            0   42.894480        -5.368975  0.484488     42.620807   \n",
       "\n",
       "            timesec  \n",
       "51024      0.000000  \n",
       "51025     38.770772  \n",
       "51026     80.336162  \n",
       "51027    122.462125  \n",
       "51028    168.228877  \n",
       "...             ...  \n",
       "52030  41698.329742  \n",
       "52031  41738.819557  \n",
       "52032  41778.491301  \n",
       "52033  41817.115792  \n",
       "52034  41859.736599  \n",
       "\n",
       "[1011 rows x 50 columns]"
      ]
     },
     "execution_count": 2,
     "metadata": {},
     "output_type": "execute_result"
    }
   ],
   "source": [
    "table=pandas.read_parquet('baseline_v3.3_night80.parquet')\n",
    "table"
   ]
  },
  {
   "cell_type": "code",
   "execution_count": 3,
   "id": "89e69113-e1e2-4c24-b97a-49d915d2defc",
   "metadata": {
    "execution": {
     "iopub.execute_input": "2023-11-17T18:28:32.552747Z",
     "iopub.status.busy": "2023-11-17T18:28:32.552623Z",
     "iopub.status.idle": "2023-11-17T18:28:32.738980Z",
     "shell.execute_reply": "2023-11-17T18:28:32.738609Z",
     "shell.execute_reply.started": "2023-11-17T18:28:32.552733Z"
    }
   },
   "outputs": [
    {
     "data": {
      "text/plain": [
       "Text(0.5, 0, 'tdiffsec')"
      ]
     },
     "execution_count": 3,
     "metadata": {},
     "output_type": "execute_result"
    },
    {
     "data": {
      "image/png": "[encoded data removed]",
      "text/plain": [
       "<Figure size 640x480 with 1 Axes>"
      ]
     },
     "metadata": {},
     "output_type": "display_data"
    }
   ],
   "source": [
    "pylab.hist(table['tdiffsec'][1:]-34,bins=100)\n",
    "pylab.xlabel('tdiffsec')"
   ]
  },
  {
   "cell_type": "code",
   "execution_count": null,
   "id": "16ff7369-aed8-4d2b-b97d-1579b38ed64d",
   "metadata": {
    "execution": {
     "iopub.status.busy": "2023-11-17T18:28:32.913230Z",
     "iopub.status.idle": "2023-11-17T18:28:32.913401Z",
     "shell.execute_reply": "2023-11-17T18:28:32.913324Z",
     "shell.execute_reply.started": "2023-11-17T18:28:32.913316Z"
    }
   },
   "outputs": [],
   "source": [
    "i=1\n",
    "body=\"\"\n",
    "for obsid, n, filter, s in zip(table['observationId'], table['numExposures'], table['filter'], table['tdiffsec'][1:]):\n",
    "    if filter == \"u\":\n",
    "        offset=31\n",
    "    else:\n",
    "        offset=34\n",
    "        \n",
    "    for j in range(n):\n",
    "        body+=(f\"\"\"[DARK{i}]\n",
    "ACQTYPE=dark\n",
    "SHUTTER = CLOSE\n",
    "ANNOTATE = observationId:{obsid} filter:{filter}\n",
    "BCOUNT=    0\n",
    "DARK={(15 if filter!=\"u\" else 30)}  1\n",
    "EXTRADELAY={(s-offset if j==n-1 else 0.):.2f}\n",
    "\n",
    "\"\"\")\n",
    "        i+=1\n",
    "\n",
    "with open(\"opsimdark.cfg\",\"w\") as f:\n",
    "    f.write(\"[ACQUIRE]\\n\")\n",
    "    for n in range(i):\n",
    "        f.write(f\"dark{n+1}\\n\")\n",
    "    f.write(body)"
   ]
  },
  {
   "cell_type": "code",
   "execution_count": 39,
   "id": "fe38794b-0f9c-4cde-9610-c1b0be43c9d8",
   "metadata": {
    "execution": {
     "iopub.execute_input": "2023-11-17T19:37:09.342713Z",
     "iopub.status.busy": "2023-11-17T19:37:09.342587Z",
     "iopub.status.idle": "2023-11-17T19:37:13.218567Z",
     "shell.execute_reply": "2023-11-17T19:37:13.218024Z",
     "shell.execute_reply.started": "2023-11-17T19:37:09.342701Z"
    }
   },
   "outputs": [
    {
     "name": "stdout",
     "output_type": "stream",
     "text": [
      "Defaulting to user installation because normal site-packages is not writeable\n",
      "Requirement already satisfied: s3fs in /home/y/youtsumi/.local/lib/python3.11/site-packages (2023.10.0)\n",
      "Requirement already satisfied: aiobotocore~=2.7.0 in /home/y/youtsumi/.local/lib/python3.11/site-packages (from s3fs) (2.7.0)\n",
      "Requirement already satisfied: fsspec==2023.10.0 in /opt/lsst/software/stack/conda/miniconda3-py38_4.9.2/envs/lsst-scipipe-7.0.1/lib/python3.11/site-packages (from s3fs) (2023.10.0)\n",
      "Requirement already satisfied: aiohttp!=4.0.0a0,!=4.0.0a1 in /opt/lsst/software/stack/conda/miniconda3-py38_4.9.2/envs/lsst-scipipe-7.0.1/lib/python3.11/site-packages (from s3fs) (3.8.6)\n",
      "Requirement already satisfied: botocore<1.31.65,>=1.31.16 in /home/y/youtsumi/.local/lib/python3.11/site-packages (from aiobotocore~=2.7.0->s3fs) (1.31.64)\n",
      "Requirement already satisfied: wrapt<2.0.0,>=1.10.10 in /opt/lsst/software/stack/conda/miniconda3-py38_4.9.2/envs/lsst-scipipe-7.0.1/lib/python3.11/site-packages (from aiobotocore~=2.7.0->s3fs) (1.15.0)\n",
      "Requirement already satisfied: aioitertools<1.0.0,>=0.5.1 in /home/y/youtsumi/.local/lib/python3.11/site-packages (from aiobotocore~=2.7.0->s3fs) (0.11.0)\n",
      "Requirement already satisfied: attrs>=17.3.0 in /opt/lsst/software/stack/conda/miniconda3-py38_4.9.2/envs/lsst-scipipe-7.0.1/lib/python3.11/site-packages (from aiohttp!=4.0.0a0,!=4.0.0a1->s3fs) (23.1.0)\n",
      "Requirement already satisfied: charset-normalizer<4.0,>=2.0 in /opt/lsst/software/stack/conda/miniconda3-py38_4.9.2/envs/lsst-scipipe-7.0.1/lib/python3.11/site-packages (from aiohttp!=4.0.0a0,!=4.0.0a1->s3fs) (3.2.0)\n",
      "Requirement already satisfied: multidict<7.0,>=4.5 in /opt/lsst/software/stack/conda/miniconda3-py38_4.9.2/envs/lsst-scipipe-7.0.1/lib/python3.11/site-packages (from aiohttp!=4.0.0a0,!=4.0.0a1->s3fs) (6.0.4)\n",
      "Requirement already satisfied: async-timeout<5.0,>=4.0.0a3 in /opt/lsst/software/stack/conda/miniconda3-py38_4.9.2/envs/lsst-scipipe-7.0.1/lib/python3.11/site-packages (from aiohttp!=4.0.0a0,!=4.0.0a1->s3fs) (4.0.3)\n",
      "Requirement already satisfied: yarl<2.0,>=1.0 in /opt/lsst/software/stack/conda/miniconda3-py38_4.9.2/envs/lsst-scipipe-7.0.1/lib/python3.11/site-packages (from aiohttp!=4.0.0a0,!=4.0.0a1->s3fs) (1.9.2)\n",
      "Requirement already satisfied: frozenlist>=1.1.1 in /opt/lsst/software/stack/conda/miniconda3-py38_4.9.2/envs/lsst-scipipe-7.0.1/lib/python3.11/site-packages (from aiohttp!=4.0.0a0,!=4.0.0a1->s3fs) (1.4.0)\n",
      "Requirement already satisfied: aiosignal>=1.1.2 in /opt/lsst/software/stack/conda/miniconda3-py38_4.9.2/envs/lsst-scipipe-7.0.1/lib/python3.11/site-packages (from aiohttp!=4.0.0a0,!=4.0.0a1->s3fs) (1.3.1)\n",
      "Requirement already satisfied: jmespath<2.0.0,>=0.7.1 in /opt/lsst/software/stack/conda/miniconda3-py38_4.9.2/envs/lsst-scipipe-7.0.1/lib/python3.11/site-packages (from botocore<1.31.65,>=1.31.16->aiobotocore~=2.7.0->s3fs) (1.0.1)\n",
      "Requirement already satisfied: python-dateutil<3.0.0,>=2.1 in /opt/lsst/software/stack/conda/miniconda3-py38_4.9.2/envs/lsst-scipipe-7.0.1/lib/python3.11/site-packages (from botocore<1.31.65,>=1.31.16->aiobotocore~=2.7.0->s3fs) (2.8.2)\n",
      "Requirement already satisfied: urllib3<2.1,>=1.25.4 in /opt/lsst/software/stack/conda/miniconda3-py38_4.9.2/envs/lsst-scipipe-7.0.1/lib/python3.11/site-packages (from botocore<1.31.65,>=1.31.16->aiobotocore~=2.7.0->s3fs) (1.26.15)\n",
      "Requirement already satisfied: idna>=2.0 in /opt/lsst/software/stack/conda/miniconda3-py38_4.9.2/envs/lsst-scipipe-7.0.1/lib/python3.11/site-packages (from yarl<2.0,>=1.0->aiohttp!=4.0.0a0,!=4.0.0a1->s3fs) (3.4)\n",
      "Requirement already satisfied: six>=1.5 in /opt/lsst/software/stack/conda/miniconda3-py38_4.9.2/envs/lsst-scipipe-7.0.1/lib/python3.11/site-packages (from python-dateutil<3.0.0,>=2.1->botocore<1.31.65,>=1.31.16->aiobotocore~=2.7.0->s3fs) (1.16.0)\n"
     ]
    }
   ],
   "source": [
    "!pip install s3fs"
   ]
  },
  {
   "cell_type": "code",
   "execution_count": 186,
   "id": "7c3a6eb1-c336-47b5-a181-320b828235fd",
   "metadata": {
    "execution": {
     "iopub.execute_input": "2023-11-17T23:03:38.540308Z",
     "iopub.status.busy": "2023-11-17T23:03:38.540026Z",
     "iopub.status.idle": "2023-11-17T23:05:22.149909Z",
     "shell.execute_reply": "2023-11-17T23:05:22.149521Z",
     "shell.execute_reply.started": "2023-11-17T23:03:38.540286Z"
    },
    "scrolled": true
   },
   "outputs": [
    {
     "name": "stderr",
     "output_type": "stream",
     "text": [
      "100%|██████████| 1824/1824 [01:40<00:00, 18.10it/s]\n"
     ]
    }
   ],
   "source": [
    "repo_path = \"/repo/ir2\"\n",
    "butler = Butler(repo_path,collections=['LSSTCam/photodiode','LSSTCam/raw/all'],instrument='LSSTCam')\n",
    "registry = butler.registry\n",
    "\n",
    "where = \"exposure.science_program = '13555' and detector=30 and exposure.observation_type!='bias'\"\n",
    "\n",
    "refs = list(set(butler.registry.queryDatasets('raw', where=where)))\n",
    "\n",
    "mjdarr = []\n",
    "darks = []\n",
    "fsspec_kwargs = {\n",
    "    \"default_block_size\": 100000,\n",
    "    \"default_cache_type\": \"bytes\",\n",
    "    \"endpoint_url\": \"https://s3dfrgw.slac.stanford.edu\"\n",
    "}\n",
    "#with FsspecMonitor() as monitor:\n",
    "for ref in tqdm(sorted( refs, key=lambda x: x.dataId[\"exposure\"])[::]):\n",
    "#    with fits.open(butler.getURI(ref).geturl(),use_fsspec=True,memmap=True,\n",
    "#          fsspec_kwargs = fsspec_kwargs\n",
    "#         ) as fh:\n",
    "#        header=fh[0].header\n",
    "    md = json.loads(butler.getURI(ref).updatedExtension(\"json\").read())    \n",
    "\n",
    "    mjdarr.append(header['MJD'])\n",
    "    darks.append(header['EXPTIME'])\n",
    "#    monitor.summary()\n"
   ]
  },
  {
   "cell_type": "markdown",
   "id": "51b0570d-6116-43e4-a29d-508eb1859de5",
   "metadata": {},
   "source": [
    "default: Summary: fetched 9563020416 bytes (9120.01 MB) in 213.99 s (42.62 MB/s) using 1824 requests.\n",
    "1MB: Summary: fetched 1824007296 bytes (1739.51 MB) in 136.24 s (12.77 MB/s) using 1824 requests.\n",
    "0.1MB: Summary: fetched 182407296 bytes (173.96 MB) in 125.70 s (1.38 MB/s) using 1824 requests.\n",
    "0.01MB: fetched 39252480 bytes (37.43 MB) in 204.64 s (0.18 MB/s) using 3648 requests.\n",
    "0.1MB: Summary: fetched 182407296 bytes (173.96 MB) in 104.21 s (1.67 MB/s) using 1824 requests.\n"
   ]
  },
  {
   "cell_type": "code",
   "execution_count": 187,
   "id": "76f08c2d-a061-49cf-aafe-37f8e22c6bd0",
   "metadata": {
    "execution": {
     "iopub.execute_input": "2023-11-18T01:46:54.750644Z",
     "iopub.status.busy": "2023-11-18T01:46:54.750330Z",
     "iopub.status.idle": "2023-11-18T01:46:54.753840Z",
     "shell.execute_reply": "2023-11-18T01:46:54.753505Z",
     "shell.execute_reply.started": "2023-11-18T01:46:54.750629Z"
    }
   },
   "outputs": [
    {
     "data": {
      "text/plain": [
       "1000000"
      ]
     },
     "execution_count": 187,
     "metadata": {},
     "output_type": "execute_result"
    }
   ],
   "source": [
    "import sys\n",
    "sys.getsizeof(header)\n",
    "len(header)*8\n",
    "1_000_000"
   ]
  },
  {
   "cell_type": "markdown",
   "id": "c5b50b79-b817-413a-8be4-ec697d795402",
   "metadata": {
    "execution": {
     "iopub.execute_input": "2023-11-17T20:14:34.881343Z",
     "iopub.status.busy": "2023-11-17T20:14:34.881072Z",
     "iopub.status.idle": "2023-11-17T20:14:34.884016Z",
     "shell.execute_reply": "2023-11-17T20:14:34.883588Z",
     "shell.execute_reply.started": "2023-11-17T20:14:34.881322Z"
    }
   },
   "source": [
    "For regular exposures\n",
    "\n",
    "34 sec visit - that is 15 sec integration + 1.0 shutter + 2.0 readout  + 15 sec integration + 1.0 shutter.\n",
    "\n",
    "For u-band\n",
    "\n",
    "34 sec visit - that is 15 sec integration + 1.0 shutter + 2.0 readout  + 15 sec integration + 1.0 shutter."
   ]
  },
  {
   "cell_type": "code",
   "execution_count": 144,
   "id": "db80613d-e071-45c8-862f-69fa8fcc9e1d",
   "metadata": {
    "execution": {
     "iopub.execute_input": "2023-11-17T21:23:02.729918Z",
     "iopub.status.busy": "2023-11-17T21:23:02.729634Z",
     "iopub.status.idle": "2023-11-17T21:23:04.015124Z",
     "shell.execute_reply": "2023-11-17T21:23:04.014675Z",
     "shell.execute_reply.started": "2023-11-17T21:23:02.729904Z"
    }
   },
   "outputs": [
    {
     "data": {
      "text/plain": [
       "[]"
      ]
     },
     "execution_count": 144,
     "metadata": {},
     "output_type": "execute_result"
    },
    {
     "data": {
      "image/png": "[encoded data removed]",
      "text/plain": [
       "<Figure size 640x480 with 1 Axes>"
      ]
     },
     "metadata": {},
     "output_type": "display_data"
    }
   ],
   "source": [
    "pylab.hist( [ t.value*24*3600-d for t, d in zip(numpy.diff(Time(mjdarr,format=\"mjd\")),darks[:-1]) ],\n",
    "           bins=180, range=(0,180), label=\"measured\")\n",
    "\n",
    "pylab.hist(\n",
    "    [\n",
    "        table['tdiffsec'][1:][table['filter']!=\"u\"]-34+3,\n",
    "        table['tdiffsec'][1:][table['filter']==\"u\"]-31+0\n",
    "    ],\n",
    "    histtype='bar', stacked=True, bins=180,range=(0,180), label=[\"expected grizy (34)\",\"expected for u(31)\"])\n",
    "\n",
    "pylab.xlabel('time to next exposure (assuming 31 sec for u otherwise 34) [sec]')\n",
    "pylab.title(\"OpSim dark run: 13555\")\n",
    "pylab.legend()\n",
    "pylab.semilogy()\n",
    "#pylab.xlim(0,180)"
   ]
  },
  {
   "cell_type": "code",
   "execution_count": 117,
   "id": "738c12b5-5552-4fd3-8822-b03084d48782",
   "metadata": {
    "execution": {
     "iopub.execute_input": "2023-11-17T20:59:09.257147Z",
     "iopub.status.busy": "2023-11-17T20:59:09.256875Z",
     "iopub.status.idle": "2023-11-17T20:59:09.261811Z",
     "shell.execute_reply": "2023-11-17T20:59:09.261444Z",
     "shell.execute_reply.started": "2023-11-17T20:59:09.257131Z"
    }
   },
   "outputs": [
    {
     "data": {
      "text/plain": [
       "Series([], Name: tdiffsec, dtype: float64)"
      ]
     },
     "execution_count": 117,
     "metadata": {},
     "output_type": "execute_result"
    }
   ],
   "source": [
    "table['tdiffsec'][1:][table['tdiffsec']==\"u\"]-31"
   ]
  },
  {
   "cell_type": "code",
   "execution_count": null,
   "id": "74b0eebe-b3ac-4508-b5a4-885566588df1",
   "metadata": {},
   "outputs": [],
   "source": []
  }
 ],
 "metadata": {
  "kernelspec": {
   "display_name": "LSST",
   "language": "python",
   "name": "lsst"
  },
  "language_info": {
   "codemirror_mode": {
    "name": "ipython",
    "version": 3
   },
   "file_extension": ".py",
   "mimetype": "text/x-python",
   "name": "python",
   "nbconvert_exporter": "python",
   "pygments_lexer": "ipython3",
   "version": "3.11.7"
  }
 },
 "nbformat": 4,
 "nbformat_minor": 5
}
