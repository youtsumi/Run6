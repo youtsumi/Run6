{
 "cells": [
  {
   "cell_type": "code",
   "execution_count": 2,
   "id": "92a56f46-b09a-4b6c-a7eb-99fa66f3f379",
   "metadata": {
    "execution": {
     "iopub.execute_input": "2023-10-28T18:12:57.623312Z",
     "iopub.status.busy": "2023-10-28T18:12:57.622981Z",
     "iopub.status.idle": "2023-10-28T18:12:57.627482Z",
     "shell.execute_reply": "2023-10-28T18:12:57.627172Z",
     "shell.execute_reply.started": "2023-10-28T18:12:57.623287Z"
    },
    "tags": []
   },
   "outputs": [],
   "source": [
    "def getvoltages( pl, pswing, sswing, rgswing, drd=8.0, **kwargs ):\n",
    "\tpl_off = 0.0\n",
    "\tpu_off = 0.0\n",
    "\trd_off = 0.0\n",
    "\tod_off = 0.0\n",
    "\tog_off = 0.0\n",
    "\tsl_off = 0.0\n",
    "\tsh_off = 0.0\n",
    "\trgl_off = 0.0\n",
    "\trgh_off = 0.0\n",
    "\tgd_off = 0.0\n",
    "\tchz = 11\n",
    "\t# Rules to set the voltages\n",
    "\tpl0 = pl\t\t\t # nominal\n",
    "\tpl1 = pl0 + pl_off   # corrected\n",
    "\t#\n",
    "\tpu0 = pl0 + pswing\t# nominal based on pl nominal\n",
    "\tpu1 = pu0 + pu_off   # corrected\n",
    "\t#\n",
    "\trd0 = pu0 + drd\n",
    "\trd1 = rd0 + rd_off\n",
    "\t#\n",
    "\tod0 = rd0 + 11.8\n",
    "\tod1 = od0 + od_off\n",
    "\t#\n",
    "\tog0 = rd0 - chz - 4\n",
    "\tog1 = og0 + og_off\n",
    "\t#\n",
    "\tsl0 = og0 - 2.0\n",
    "\tsl1 = sl0 + sl_off\n",
    "\t#\n",
    "\tsh0 = sl0 + sswing\n",
    "\tsh1 = sh0 + sh_off\n",
    "\t#\n",
    "\trgh0 = rd0 - 5.5\n",
    "\trgh1 = rgh0 + rgh_off\n",
    "\t#\n",
    "\trgl0 = rgh0 - rgswing\n",
    "\trgl1 = rgl0 + rgl_off\n",
    "\t#\n",
    "\tgd0 = 26\n",
    "\tgd1 = gd0 + gd_off\n",
    "\t#\n",
    "\t# Apply the offsets\n",
    "\t# pl = pl + pl_off\n",
    "\t# pu = pu + pu_off\n",
    "\t# rd = rd + rd_off\n",
    "\t# od = od + od_off\n",
    "\t# og = og + og_off\n",
    "\t# sl = sl + sl_off\n",
    "\t# sh = sh + sh_off\n",
    "\t# rgh = rgh + rgh_off\n",
    "\t# rgl = rgl + rgl_off\n",
    "\t# ----------\n",
    "\tproto = {\n",
    "\t\t\t\"DAC\": {\n",
    "\t\t\t\t\"pclkHighP\": pu1,\n",
    "\t\t\t\t\"pclkLowP\": pl1,\n",
    "\t\t\t\t\"sclkHighP\": sh1,\n",
    "\t\t\t\t\"sclkLowP\": sl1,\n",
    "\t\t\t\t\"rgHighP\": rgh1,\n",
    "\t\t\t\t\"rgLowP\": rgl1,\n",
    "\t\t\t},\n",
    "\t\t\t\"Bias\": {\n",
    "\t\t\t\t\"rdP\": rd1,\n",
    "\t\t\t\t\"odP\": od1,\n",
    "\t\t\t\t\"ogP\": og1,\n",
    "\t\t\t\t\"gdP\": gd1,\n",
    "\t\t\t}\n",
    "\t\t}\n",
    "\tfor key in [ \"DAC\", \"Bias\" ]:\n",
    "\t\tproto[key].update(kwargs[key])\n",
    "\treturn proto\n"
   ]
  },
  {
   "cell_type": "markdown",
   "id": "e3ebf399-867c-4e98-8355-c85a6bd43377",
   "metadata": {},
   "source": [
    "# standard voltage based on the rule (run5)"
   ]
  },
  {
   "cell_type": "code",
   "execution_count": 8,
   "id": "4c82aecc-8363-4fc6-a91b-7bfb714dfac7",
   "metadata": {
    "execution": {
     "iopub.execute_input": "2023-10-28T18:21:33.680976Z",
     "iopub.status.busy": "2023-10-28T18:21:33.680441Z",
     "iopub.status.idle": "2023-10-28T18:21:33.684261Z",
     "shell.execute_reply": "2023-10-28T18:21:33.683903Z",
     "shell.execute_reply.started": "2023-10-28T18:21:33.680961Z"
    },
    "tags": []
   },
   "outputs": [
    {
     "data": {
      "text/plain": [
       "{'DAC': {'pclkHighP': 3.5999999999999996,\n",
       "  'pclkLowP': -6.0,\n",
       "  'sclkHighP': 3.9000000000000004,\n",
       "  'sclkLowP': -5.4,\n",
       "  'rgHighP': 6.1,\n",
       "  'rgLowP': -4.0},\n",
       " 'Bias': {'rdP': 11.6, 'odP': 23.4, 'ogP': -3.4000000000000004, 'gdP': 26.0}}"
      ]
     },
     "execution_count": 8,
     "metadata": {},
     "output_type": "execute_result"
    }
   ],
   "source": [
    "getvoltages( **{\n",
    "                        \"pl\" : -6.0,\n",
    "                        \"pswing\" : 9.6,\n",
    "                        \"sswing\" : 9.3,\n",
    "                        \"rgswing\" : 10.1,\n",
    "                        \"drd\" : 8.0,\n",
    "                        \"DAC\": {\n",
    "                        },\n",
    "                        \"Bias\": {\n",
    "                        } }\n",
    "           )"
   ]
  },
  {
   "cell_type": "markdown",
   "id": "8a673251-0657-4bf8-a098-cb20f02940fa",
   "metadata": {},
   "source": [
    "# Run6a voltage set\n",
    "\n",
    "We empirically lowered parallel swing voltage by 0.3V from this set during Run 5. So I change pclkHighP from 3.6 to 3.3 by hand\n",
    "\n",
    "{'DAC': {'pclkHighP': 3.3,\n",
    "  'pclkLowP': -6.0,\n",
    "  'sclkHighP': 3.9000000000000004,\n",
    "  'sclkLowP': -5.4,\n",
    "  'rgHighP': 6.1,\n",
    "  'rgLowP': -4.0},\n",
    " 'Bias': {'rdP': 11.6, 'odP': 23.4, 'ogP': -3.4000000000000004, 'gdP': 26.0}}"
   ]
  },
  {
   "cell_type": "markdown",
   "id": "cfefec74-44a8-4f8b-8e16-59819bbf0b85",
   "metadata": {},
   "source": [
    "# Proposed Run6b voltage set\n",
    "\n",
    "What Pierre suggested was to follow the rule again, but change the pswing from 9.6 to 9.3"
   ]
  },
  {
   "cell_type": "code",
   "execution_count": 12,
   "id": "ff6bac3f-30f5-4bf0-9f9b-f3ccdc36e454",
   "metadata": {
    "execution": {
     "iopub.execute_input": "2023-10-28T18:32:57.327698Z",
     "iopub.status.busy": "2023-10-28T18:32:57.327515Z",
     "iopub.status.idle": "2023-10-28T18:32:57.331116Z",
     "shell.execute_reply": "2023-10-28T18:32:57.330831Z",
     "shell.execute_reply.started": "2023-10-28T18:32:57.327685Z"
    },
    "tags": []
   },
   "outputs": [
    {
     "data": {
      "text/plain": [
       "{'DAC': {'pclkHighP': 3.3000000000000007,\n",
       "  'pclkLowP': -6.0,\n",
       "  'sclkHighP': 3.6000000000000014,\n",
       "  'sclkLowP': -5.699999999999999,\n",
       "  'rgHighP': 5.800000000000001,\n",
       "  'rgLowP': -4.299999999999999},\n",
       " 'Bias': {'rdP': 11.3, 'odP': 23.1, 'ogP': -3.6999999999999993, 'gdP': 26.0}}"
      ]
     },
     "execution_count": 12,
     "metadata": {},
     "output_type": "execute_result"
    }
   ],
   "source": [
    "getvoltages( **{\n",
    "                        \"pl\" : -6.0,\n",
    "                        \"pswing\" : 9.3,   # <--- changed this piece\n",
    "                        \"sswing\" : 9.3,\n",
    "                        \"rgswing\" : 10.1,\n",
    "                        \"drd\" : 8.0,\n",
    "                        \"DAC\": {\n",
    "                        },\n",
    "                        \"Bias\": {\n",
    "                        } }\n",
    "           )"
   ]
  },
  {
   "cell_type": "code",
   "execution_count": null,
   "id": "a4cc90e3-071d-4ca9-850a-388b58b3ea1f",
   "metadata": {},
   "outputs": [],
   "source": []
  }
 ],
 "metadata": {
  "kernelspec": {
   "display_name": "LSST",
   "language": "python",
   "name": "lsst"
  },
  "language_info": {
   "codemirror_mode": {
    "name": "ipython",
    "version": 3
   },
   "file_extension": ".py",
   "mimetype": "text/x-python",
   "name": "python",
   "nbconvert_exporter": "python",
   "pygments_lexer": "ipython3",
   "version": "3.11.7"
  }
 },
 "nbformat": 4,
 "nbformat_minor": 5
}
