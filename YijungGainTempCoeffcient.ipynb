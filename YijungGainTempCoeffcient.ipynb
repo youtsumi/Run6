{
 "cells": [
  {
   "cell_type": "code",
   "execution_count": 1,
   "id": "9e429098-52ba-454e-b5eb-e132e60c8d9c",
   "metadata": {
    "execution": {
     "iopub.execute_input": "2024-02-23T21:19:21.082240Z",
     "iopub.status.busy": "2024-02-23T21:19:21.081917Z",
     "iopub.status.idle": "2024-02-23T21:19:22.116846Z",
     "shell.execute_reply": "2024-02-23T21:19:22.116401Z",
     "shell.execute_reply.started": "2024-02-23T21:19:21.082225Z"
    }
   },
   "outputs": [],
   "source": [
    "from lsst.daf.butler import Butler\n",
    "from astropy.table import Table\n",
    "import pylab\n",
    "import numpy\n",
    "from astropy.stats import mad_std\n",
    "from tqdm import tqdm\n",
    "from astropy.io import fits\n",
    "import pandas as pd"
   ]
  },
  {
   "cell_type": "code",
   "execution_count": 2,
   "id": "21de34f6-b941-4388-bebd-8c884a33fb46",
   "metadata": {
    "execution": {
     "iopub.execute_input": "2024-02-23T21:19:22.119248Z",
     "iopub.status.busy": "2024-02-23T21:19:22.119123Z",
     "iopub.status.idle": "2024-02-23T21:19:22.519432Z",
     "shell.execute_reply": "2024-02-23T21:19:22.518951Z",
     "shell.execute_reply.started": "2024-02-23T21:19:22.119234Z"
    }
   },
   "outputs": [],
   "source": [
    "repo_path = \"/repo/ir2\"\n",
    "butler = Butler(repo_path,instrument='LSSTCam')\n",
    "registry = butler.registry"
   ]
  },
  {
   "cell_type": "markdown",
   "id": "83f33051-3aed-4270-bfbb-618e352c2730",
   "metadata": {},
   "source": [
    "We query what collections we have in the repository"
   ]
  },
  {
   "cell_type": "code",
   "execution_count": 3,
   "id": "2a0aee4c-1ad0-434a-8754-3e84fa4b9f96",
   "metadata": {
    "execution": {
     "iopub.execute_input": "2024-02-23T21:19:22.523695Z",
     "iopub.status.busy": "2024-02-23T21:19:22.523572Z",
     "iopub.status.idle": "2024-02-23T21:19:22.669671Z",
     "shell.execute_reply": "2024-02-23T21:19:22.669245Z",
     "shell.execute_reply.started": "2024-02-23T21:19:22.523681Z"
    }
   },
   "outputs": [
    {
     "data": {
      "text/plain": [
       "['u/lsstccs/eo_flat_gain_stability_13535_w_2023_41/20231112T062559Z',\n",
       " 'u/lsstccs/eo_flat_gain_stability_13535_w_2023_41']"
      ]
     },
     "execution_count": 3,
     "metadata": {},
     "output_type": "execute_result"
    }
   ],
   "source": [
    "#13590\n",
    "#13535\n",
    "#13525\n",
    "# https://confluence.slac.stanford.edu/pages/viewpage.action?pageId=405094202\n",
    "collections = list(registry.queryCollections(\"*stability*13535*\"))\n",
    "collections"
   ]
  },
  {
   "cell_type": "markdown",
   "id": "50d7743b-1869-4de7-95ea-2eb14986b291",
   "metadata": {},
   "source": [
    "We query what dataset are in this collections"
   ]
  },
  {
   "cell_type": "code",
   "execution_count": 4,
   "id": "38ab008e-fe42-40bb-adc5-ce1fb666647e",
   "metadata": {
    "execution": {
     "iopub.execute_input": "2024-02-23T21:19:22.697676Z",
     "iopub.status.busy": "2024-02-23T21:19:22.697550Z",
     "iopub.status.idle": "2024-02-23T21:19:22.706772Z",
     "shell.execute_reply": "2024-02-23T21:19:22.706446Z",
     "shell.execute_reply.started": "2024-02-23T21:19:22.697663Z"
    }
   },
   "outputs": [
    {
     "data": {
      "text/plain": [
       "[DatasetType('flatGainStabilityTask_log', {instrument, detector}, ButlerLogRecords),\n",
       " DatasetType('flat_gain_stability_stats', {instrument, detector}, DataFrame),\n",
       " DatasetType('flatGainStabilityTask_metadata', {instrument, detector}, TaskMetadata),\n",
       " DatasetType('flatGainStabilityPlots_metadata', {instrument}, TaskMetadata),\n",
       " DatasetType('flatGainStabilityTask_config', {}, Config),\n",
       " DatasetType('flat_gain_stability_plots', {instrument}, Plot),\n",
       " DatasetType('flatGainStabilityPlots_config', {}, Config),\n",
       " DatasetType('packages', {}, Packages),\n",
       " DatasetType('flatGainStabilityPlots_log', {instrument}, ButlerLogRecords)]"
      ]
     },
     "execution_count": 4,
     "metadata": {},
     "output_type": "execute_result"
    }
   ],
   "source": [
    "list(registry.getCollectionSummary(collections[0]).dataset_types)"
   ]
  },
  {
   "cell_type": "markdown",
   "id": "07199c0c-0a05-45b4-b0e5-d6ebdaf9b1dd",
   "metadata": {},
   "source": [
    "We convert the sensor address to the DM numbering"
   ]
  },
  {
   "cell_type": "code",
   "execution_count": 5,
   "id": "a648c4ea-4045-404c-9e33-bc541007fb09",
   "metadata": {
    "execution": {
     "iopub.execute_input": "2024-02-23T21:19:22.710815Z",
     "iopub.status.busy": "2024-02-23T21:19:22.710693Z",
     "iopub.status.idle": "2024-02-23T21:19:22.729815Z",
     "shell.execute_reply": "2024-02-23T21:19:22.729470Z",
     "shell.execute_reply.started": "2024-02-23T21:19:22.710803Z"
    }
   },
   "outputs": [
    {
     "data": {
      "text/plain": [
       "99"
      ]
     },
     "execution_count": 5,
     "metadata": {},
     "output_type": "execute_result"
    }
   ],
   "source": [
    "sensor=\"R23_S00\"\n",
    "detector=list(registry.queryDimensionRecords(\"detector\",instrument='LSSTCam',where=f\"detector.full_name='{sensor}'\"))[0].id\n",
    "detector"
   ]
  },
  {
   "cell_type": "markdown",
   "id": "23dc3323-76a1-4c4f-bab4-d3be0255f062",
   "metadata": {},
   "source": [
    "Obtain flat stability statistics given the sensor"
   ]
  },
  {
   "cell_type": "code",
   "execution_count": 6,
   "id": "d83ccaf9-5a8b-4474-baae-185bf750a16e",
   "metadata": {
    "execution": {
     "iopub.execute_input": "2024-02-23T21:19:22.733747Z",
     "iopub.status.busy": "2024-02-23T21:19:22.733632Z",
     "iopub.status.idle": "2024-02-23T21:19:22.950655Z",
     "shell.execute_reply": "2024-02-23T21:19:22.950251Z",
     "shell.execute_reply.started": "2024-02-23T21:19:22.733736Z"
    }
   },
   "outputs": [
    {
     "data": {
      "text/html": [
       "<div>\n",
       "<style scoped>\n",
       "    .dataframe tbody tr th:only-of-type {\n",
       "        vertical-align: middle;\n",
       "    }\n",
       "\n",
       "    .dataframe tbody tr th {\n",
       "        vertical-align: top;\n",
       "    }\n",
       "\n",
       "    .dataframe thead th {\n",
       "        text-align: right;\n",
       "    }\n",
       "</style>\n",
       "<table border=\"1\" class=\"dataframe\">\n",
       "  <thead>\n",
       "    <tr style=\"text-align: right;\">\n",
       "      <th></th>\n",
       "      <th>raft</th>\n",
       "      <th>slot</th>\n",
       "      <th>exposure</th>\n",
       "      <th>pd_integral</th>\n",
       "      <th>mjd</th>\n",
       "      <th>amp_name</th>\n",
       "      <th>median</th>\n",
       "      <th>stdev_clip</th>\n",
       "    </tr>\n",
       "  </thead>\n",
       "  <tbody>\n",
       "    <tr>\n",
       "      <th>0</th>\n",
       "      <td>R23</td>\n",
       "      <td>S00</td>\n",
       "      <td>2023111001321</td>\n",
       "      <td>0.000002</td>\n",
       "      <td>60259.222765</td>\n",
       "      <td>C10</td>\n",
       "      <td>14685.433594</td>\n",
       "      <td>121.013648</td>\n",
       "    </tr>\n",
       "    <tr>\n",
       "      <th>1</th>\n",
       "      <td>R23</td>\n",
       "      <td>S00</td>\n",
       "      <td>2023111001321</td>\n",
       "      <td>0.000002</td>\n",
       "      <td>60259.222765</td>\n",
       "      <td>C11</td>\n",
       "      <td>14696.310547</td>\n",
       "      <td>136.417904</td>\n",
       "    </tr>\n",
       "    <tr>\n",
       "      <th>2</th>\n",
       "      <td>R23</td>\n",
       "      <td>S00</td>\n",
       "      <td>2023111001321</td>\n",
       "      <td>0.000002</td>\n",
       "      <td>60259.222765</td>\n",
       "      <td>C12</td>\n",
       "      <td>14790.843750</td>\n",
       "      <td>121.775901</td>\n",
       "    </tr>\n",
       "    <tr>\n",
       "      <th>3</th>\n",
       "      <td>R23</td>\n",
       "      <td>S00</td>\n",
       "      <td>2023111001321</td>\n",
       "      <td>0.000002</td>\n",
       "      <td>60259.222765</td>\n",
       "      <td>C13</td>\n",
       "      <td>14686.334961</td>\n",
       "      <td>120.946175</td>\n",
       "    </tr>\n",
       "    <tr>\n",
       "      <th>4</th>\n",
       "      <td>R23</td>\n",
       "      <td>S00</td>\n",
       "      <td>2023111001321</td>\n",
       "      <td>0.000002</td>\n",
       "      <td>60259.222765</td>\n",
       "      <td>C14</td>\n",
       "      <td>14729.735352</td>\n",
       "      <td>122.612289</td>\n",
       "    </tr>\n",
       "    <tr>\n",
       "      <th>...</th>\n",
       "      <td>...</td>\n",
       "      <td>...</td>\n",
       "      <td>...</td>\n",
       "      <td>...</td>\n",
       "      <td>...</td>\n",
       "      <td>...</td>\n",
       "      <td>...</td>\n",
       "      <td>...</td>\n",
       "    </tr>\n",
       "    <tr>\n",
       "      <th>17755</th>\n",
       "      <td>R23</td>\n",
       "      <td>S00</td>\n",
       "      <td>2023111100813</td>\n",
       "      <td>0.000002</td>\n",
       "      <td>60260.262762</td>\n",
       "      <td>C04</td>\n",
       "      <td>14188.246094</td>\n",
       "      <td>115.222155</td>\n",
       "    </tr>\n",
       "    <tr>\n",
       "      <th>17756</th>\n",
       "      <td>R23</td>\n",
       "      <td>S00</td>\n",
       "      <td>2023111100813</td>\n",
       "      <td>0.000002</td>\n",
       "      <td>60260.262762</td>\n",
       "      <td>C03</td>\n",
       "      <td>14163.139648</td>\n",
       "      <td>115.512521</td>\n",
       "    </tr>\n",
       "    <tr>\n",
       "      <th>17757</th>\n",
       "      <td>R23</td>\n",
       "      <td>S00</td>\n",
       "      <td>2023111100813</td>\n",
       "      <td>0.000002</td>\n",
       "      <td>60260.262762</td>\n",
       "      <td>C02</td>\n",
       "      <td>14160.588867</td>\n",
       "      <td>114.472667</td>\n",
       "    </tr>\n",
       "    <tr>\n",
       "      <th>17758</th>\n",
       "      <td>R23</td>\n",
       "      <td>S00</td>\n",
       "      <td>2023111100813</td>\n",
       "      <td>0.000002</td>\n",
       "      <td>60260.262762</td>\n",
       "      <td>C01</td>\n",
       "      <td>14161.702148</td>\n",
       "      <td>114.539916</td>\n",
       "    </tr>\n",
       "    <tr>\n",
       "      <th>17759</th>\n",
       "      <td>R23</td>\n",
       "      <td>S00</td>\n",
       "      <td>2023111100813</td>\n",
       "      <td>0.000002</td>\n",
       "      <td>60260.262762</td>\n",
       "      <td>C00</td>\n",
       "      <td>14202.270996</td>\n",
       "      <td>116.013364</td>\n",
       "    </tr>\n",
       "  </tbody>\n",
       "</table>\n",
       "<p>17760 rows × 8 columns</p>\n",
       "</div>"
      ],
      "text/plain": [
       "      raft slot       exposure  pd_integral           mjd amp_name  \\\n",
       "0      R23  S00  2023111001321     0.000002  60259.222765      C10   \n",
       "1      R23  S00  2023111001321     0.000002  60259.222765      C11   \n",
       "2      R23  S00  2023111001321     0.000002  60259.222765      C12   \n",
       "3      R23  S00  2023111001321     0.000002  60259.222765      C13   \n",
       "4      R23  S00  2023111001321     0.000002  60259.222765      C14   \n",
       "...    ...  ...            ...          ...           ...      ...   \n",
       "17755  R23  S00  2023111100813     0.000002  60260.262762      C04   \n",
       "17756  R23  S00  2023111100813     0.000002  60260.262762      C03   \n",
       "17757  R23  S00  2023111100813     0.000002  60260.262762      C02   \n",
       "17758  R23  S00  2023111100813     0.000002  60260.262762      C01   \n",
       "17759  R23  S00  2023111100813     0.000002  60260.262762      C00   \n",
       "\n",
       "             median  stdev_clip  \n",
       "0      14685.433594  121.013648  \n",
       "1      14696.310547  136.417904  \n",
       "2      14790.843750  121.775901  \n",
       "3      14686.334961  120.946175  \n",
       "4      14729.735352  122.612289  \n",
       "...             ...         ...  \n",
       "17755  14188.246094  115.222155  \n",
       "17756  14163.139648  115.512521  \n",
       "17757  14160.588867  114.472667  \n",
       "17758  14161.702148  114.539916  \n",
       "17759  14202.270996  116.013364  \n",
       "\n",
       "[17760 rows x 8 columns]"
      ]
     },
     "execution_count": 6,
     "metadata": {},
     "output_type": "execute_result"
    }
   ],
   "source": [
    "df=butler.get('flat_gain_stability_stats',collections=collections,detector=detector)\n",
    "df"
   ]
  },
  {
   "cell_type": "markdown",
   "id": "0ef06833-f780-4da4-ad6d-7f7fc6afe201",
   "metadata": {},
   "source": [
    "Specify temp key"
   ]
  },
  {
   "cell_type": "code",
   "execution_count": 7,
   "id": "64c26155-7472-475c-9771-6b0f4ef10bff",
   "metadata": {
    "execution": {
     "iopub.execute_input": "2024-02-23T21:19:22.957021Z",
     "iopub.status.busy": "2024-02-23T21:19:22.956887Z",
     "iopub.status.idle": "2024-02-23T21:19:22.958996Z",
     "shell.execute_reply": "2024-02-23T21:19:22.958637Z",
     "shell.execute_reply.started": "2024-02-23T21:19:22.957008Z"
    }
   },
   "outputs": [],
   "source": [
    "TEMPKEY='TEMP6'"
   ]
  },
  {
   "cell_type": "markdown",
   "id": "11cf889f-47ba-4581-9511-ec0076d37f16",
   "metadata": {},
   "source": [
    "Retrieve temperature in fits header more efficient than how butler does. It only asks the first 100kB to read from the disk."
   ]
  },
  {
   "cell_type": "code",
   "execution_count": 8,
   "id": "10689fbe-d36d-4e62-9755-af4c7b361a17",
   "metadata": {
    "execution": {
     "iopub.execute_input": "2024-02-23T21:19:23.271524Z",
     "iopub.status.busy": "2024-02-23T21:19:23.271381Z",
     "iopub.status.idle": "2024-02-23T21:35:40.326777Z",
     "shell.execute_reply": "2024-02-23T21:35:40.326310Z",
     "shell.execute_reply.started": "2024-02-23T21:19:23.271510Z"
    }
   },
   "outputs": [
    {
     "name": "stderr",
     "output_type": "stream",
     "text": [
      "  0%|          | 0/1110 [00:00<?, ?it/s]"
     ]
    },
    {
     "data": {
      "text/html": [
       "<pre style=\"margin: 0.1em;\n",
       "padding-left: 0.25em;\n",
       "border-left-style: solid;\n",
       "font-family: var(--jp-code-font-family);\n",
       "font-size: var(--jp-code-font-size);\n",
       "line-height: var(--jp-code-line-height);\n",
       "\"><span style=\"color: var(--jp-warn-color2)\">aiobotocore.credentials</span> <span style=\"color: var(--jp-info-color0)\">INFO</span>: Found credentials in shared credentials file: /home/y/youtsumi/.lsst/aws-credentials.ini</pre>"
      ],
      "text/plain": [
       "<IPython.core.display.HTML object>"
      ]
     },
     "metadata": {},
     "output_type": "display_data"
    },
    {
     "name": "stderr",
     "output_type": "stream",
     "text": [
      "100%|██████████| 1110/1110 [16:17<00:00,  1.14it/s]\n"
     ]
    }
   ],
   "source": [
    "expids=set(list(df['exposure']))\n",
    "\n",
    "fsspec_kwargs = {\n",
    "    \"default_block_size\": 100000,\n",
    "    \"default_cache_type\": \"bytes\",\n",
    "    \"endpoint_url\": \"https://s3dfrgw.slac.stanford.edu\"\n",
    "}\n",
    "\n",
    "temps=[]\n",
    "expid=[]\n",
    "for ref in tqdm(sorted( expids )[::]):\n",
    "    try:\n",
    "\n",
    "        with fits.open(\n",
    "            butler.getURI('raw',dataId={\"exposure\": ref},\n",
    "            collections=collections,detector=detector).geturl(),\n",
    "            use_fsspec=True,\n",
    "            fsspec_kwargs = fsspec_kwargs\n",
    "             ) as fh:            \n",
    "            expid.append(ref)\n",
    "            temps.append(fh[-2].header[TEMPKEY])\n",
    "\n",
    "    except:\n",
    "        pass"
   ]
  },
  {
   "cell_type": "markdown",
   "id": "597b73aa-5a91-43a5-a21a-effbb09886d1",
   "metadata": {},
   "source": [
    "Merge the table using 'exposure'"
   ]
  },
  {
   "cell_type": "code",
   "execution_count": 9,
   "id": "99642905-a137-4f3d-863a-9b7d2a61b78a",
   "metadata": {
    "execution": {
     "iopub.execute_input": "2024-02-23T21:35:41.966064Z",
     "iopub.status.busy": "2024-02-23T21:35:41.965631Z",
     "iopub.status.idle": "2024-02-23T21:35:41.971764Z",
     "shell.execute_reply": "2024-02-23T21:35:41.971335Z",
     "shell.execute_reply.started": "2024-02-23T21:35:41.966047Z"
    }
   },
   "outputs": [],
   "source": [
    "dfmerged=pd.merge(df, pd.DataFrame({'exposure': expid, TEMPKEY: temps }), on='exposure', how='inner')"
   ]
  },
  {
   "cell_type": "code",
   "execution_count": 10,
   "id": "4720d8a6-516c-4a1a-a054-860274c1e56b",
   "metadata": {
    "execution": {
     "iopub.execute_input": "2024-02-23T21:35:43.918626Z",
     "iopub.status.busy": "2024-02-23T21:35:43.918381Z",
     "iopub.status.idle": "2024-02-23T21:35:43.922441Z",
     "shell.execute_reply": "2024-02-23T21:35:43.922064Z",
     "shell.execute_reply.started": "2024-02-23T21:35:43.918613Z"
    }
   },
   "outputs": [],
   "source": [
    "subset=dfmerged[dfmerged['amp_name']=='C00']"
   ]
  },
  {
   "cell_type": "code",
   "execution_count": 11,
   "id": "0deaae92-9cec-4c6b-81cd-a6d340c9d0f9",
   "metadata": {
    "execution": {
     "iopub.execute_input": "2024-02-23T21:35:43.955711Z",
     "iopub.status.busy": "2024-02-23T21:35:43.955586Z",
     "iopub.status.idle": "2024-02-23T21:35:44.077147Z",
     "shell.execute_reply": "2024-02-23T21:35:44.076774Z",
     "shell.execute_reply.started": "2024-02-23T21:35:43.955700Z"
    }
   },
   "outputs": [
    {
     "data": {
      "text/plain": [
       "Text(0, 0.5, 'median/pd_integral')"
      ]
     },
     "execution_count": 11,
     "metadata": {},
     "output_type": "execute_result"
    },
    {
     "data": {
      "image/png": "[encoded data removed]",
      "text/plain": [
       "<Figure size 640x480 with 1 Axes>"
      ]
     },
     "metadata": {},
     "output_type": "display_data"
    }
   ],
   "source": [
    "pylab.scatter(subset[TEMPKEY],subset['median']/subset['pd_integral'])\n",
    "pylab.xlabel(TEMPKEY)\n",
    "pylab.ylabel('median/pd_integral')"
   ]
  },
  {
   "cell_type": "code",
   "execution_count": null,
   "id": "b5b33814-644f-4f17-b47f-45d8eef9567e",
   "metadata": {},
   "outputs": [],
   "source": []
  },
  {
   "cell_type": "code",
   "execution_count": null,
   "id": "e5fc941f-9ed7-4553-92f7-5aab56dc154d",
   "metadata": {},
   "outputs": [],
   "source": []
  }
 ],
 "metadata": {
  "kernelspec": {
   "display_name": "LSST",
   "language": "python",
   "name": "lsst"
  },
  "language_info": {
   "codemirror_mode": {
    "name": "ipython",
    "version": 3
   },
   "file_extension": ".py",
   "mimetype": "text/x-python",
   "name": "python",
   "nbconvert_exporter": "python",
   "pygments_lexer": "ipython3",
   "version": "3.11.7"
  }
 },
 "nbformat": 4,
 "nbformat_minor": 5
}
