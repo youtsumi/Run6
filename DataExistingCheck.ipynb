{
 "cells": [
  {
   "cell_type": "code",
   "execution_count": 38,
   "id": "16cd38f0-7e52-40c2-a05d-f8f8f916fd96",
   "metadata": {
    "execution": {
     "iopub.execute_input": "2023-11-25T18:31:08.202888Z",
     "iopub.status.busy": "2023-11-25T18:31:08.202597Z",
     "iopub.status.idle": "2023-11-25T18:31:08.460822Z",
     "shell.execute_reply": "2023-11-25T18:31:08.460502Z",
     "shell.execute_reply.started": "2023-11-25T18:31:08.202873Z"
    }
   },
   "outputs": [
    {
     "data": {
      "text/plain": [
       "{'ResponseMetadata': {'RequestId': 'tx0000008f1823eab75ec63-0065623d6c-195bfd-default',\n",
       "  'HostId': '',\n",
       "  'HTTPStatusCode': 200,\n",
       "  'HTTPHeaders': {'transfer-encoding': 'chunked',\n",
       "   'x-amz-request-id': 'tx0000008f1823eab75ec63-0065623d6c-195bfd-default',\n",
       "   'content-type': 'application/xml',\n",
       "   'date': 'Sat, 25 Nov 2023 18:31:08 GMT'},\n",
       "  'RetryAttempts': 0},\n",
       " 'IsTruncated': False,\n",
       " 'Marker': '',\n",
       " 'Contents': [{'Key': 'LSSTCam/20231125/MC_C_20231125_000312/MC_C_20231125_000312_R44_SG0.fits',\n",
       "   'LastModified': datetime.datetime(2023, 11, 25, 18, 16, 27, 125000, tzinfo=tzlocal()),\n",
       "   'ETag': '\"13e172fae4b301a3ab6fe2414842c0a7\"',\n",
       "   'Size': 25260480,\n",
       "   'StorageClass': 'STANDARD',\n",
       "   'Owner': {'DisplayName': 'Rubin Test Stand', 'ID': 'rubin-sts'}},\n",
       "  {'Key': 'LSSTCam/20231125/MC_C_20231125_000312/MC_C_20231125_000312_R44_SG0.json',\n",
       "   'LastModified': datetime.datetime(2023, 11, 25, 18, 16, 24, 194000, tzinfo=tzlocal()),\n",
       "   'ETag': '\"cf17c2b448dc460abf1aab2407721485\"',\n",
       "   'Size': 3058,\n",
       "   'StorageClass': 'STANDARD',\n",
       "   'Owner': {'DisplayName': 'Rubin Test Stand', 'ID': 'rubin-sts'}},\n",
       "  {'Key': 'LSSTCam/20231125/MC_C_20231125_000312/MC_C_20231125_000312_R44_SG1.fits',\n",
       "   'LastModified': datetime.datetime(2023, 11, 25, 18, 16, 28, 333000, tzinfo=tzlocal()),\n",
       "   'ETag': '\"b52393d0b07da95b1c6692911d10b0a7\"',\n",
       "   'Size': 25830720,\n",
       "   'StorageClass': 'STANDARD',\n",
       "   'Owner': {'DisplayName': 'Rubin Test Stand', 'ID': 'rubin-sts'}},\n",
       "  {'Key': 'LSSTCam/20231125/MC_C_20231125_000312/MC_C_20231125_000312_R44_SG1.json',\n",
       "   'LastModified': datetime.datetime(2023, 11, 25, 18, 16, 25, 82000, tzinfo=tzlocal()),\n",
       "   'ETag': '\"cf902691d0402f66a829e7f36ed413f0\"',\n",
       "   'Size': 3058,\n",
       "   'StorageClass': 'STANDARD',\n",
       "   'Owner': {'DisplayName': 'Rubin Test Stand', 'ID': 'rubin-sts'}},\n",
       "  {'Key': 'LSSTCam/20231125/MC_C_20231125_000312/MC_C_20231125_000312_R44_SW0.fits',\n",
       "   'LastModified': datetime.datetime(2023, 11, 25, 18, 16, 24, 556000, tzinfo=tzlocal()),\n",
       "   'ETag': '\"c40317c20accc6cbdd8b0e38f438098e\"',\n",
       "   'Size': 13199040,\n",
       "   'StorageClass': 'STANDARD',\n",
       "   'Owner': {'DisplayName': 'Rubin Test Stand', 'ID': 'rubin-sts'}},\n",
       "  {'Key': 'LSSTCam/20231125/MC_C_20231125_000312/MC_C_20231125_000312_R44_SW0.json',\n",
       "   'LastModified': datetime.datetime(2023, 11, 25, 18, 16, 23, 600000, tzinfo=tzlocal()),\n",
       "   'ETag': '\"6c2804a457a51131f1db83ebfbbbcc39\"',\n",
       "   'Size': 3057,\n",
       "   'StorageClass': 'STANDARD',\n",
       "   'Owner': {'DisplayName': 'Rubin Test Stand', 'ID': 'rubin-sts'}},\n",
       "  {'Key': 'LSSTCam/20231125/MC_C_20231125_000312/MC_C_20231125_000312_R44_SW1.fits',\n",
       "   'LastModified': datetime.datetime(2023, 11, 25, 18, 16, 24, 362000, tzinfo=tzlocal()),\n",
       "   'ETag': '\"1a07a6214975a36b94550188a7637f8f\"',\n",
       "   'Size': 13219200,\n",
       "   'StorageClass': 'STANDARD',\n",
       "   'Owner': {'DisplayName': 'Rubin Test Stand', 'ID': 'rubin-sts'}},\n",
       "  {'Key': 'LSSTCam/20231125/MC_C_20231125_000312/MC_C_20231125_000312_R44_SW1.json',\n",
       "   'LastModified': datetime.datetime(2023, 11, 25, 18, 16, 23, 608000, tzinfo=tzlocal()),\n",
       "   'ETag': '\"c599cd6067fd1ae8ae84da486868b42d\"',\n",
       "   'Size': 3057,\n",
       "   'StorageClass': 'STANDARD',\n",
       "   'Owner': {'DisplayName': 'Rubin Test Stand', 'ID': 'rubin-sts'}}],\n",
       " 'Name': 'rubin-sts',\n",
       " 'Prefix': 'LSSTCam/20231125/MC_C_20231125_000312/MC_C_20231125_000312_R44',\n",
       " 'MaxKeys': 1000,\n",
       " 'EncodingType': 'url'}"
      ]
     },
     "execution_count": 38,
     "metadata": {},
     "output_type": "execute_result"
    }
   ],
   "source": [
    "import boto3\n",
    "from astropy.io import fits\n",
    "\n",
    "s3 = boto3.client(\"s3\", endpoint_url=\"https://s3dfrgw.slac.stanford.edu\")\n",
    "o=s3.list_objects(Bucket=\"rubin-sts\", Prefix=\"LSSTCam/20231125/MC_C_20231125_000312/MC_C_20231125_000312_R44\")\n",
    "o"
   ]
  },
  {
   "cell_type": "code",
   "execution_count": 39,
   "id": "457ae6ad-b134-4484-9959-1dae92d1c3e7",
   "metadata": {
    "execution": {
     "iopub.execute_input": "2023-11-25T18:31:09.115017Z",
     "iopub.status.busy": "2023-11-25T18:31:09.114762Z",
     "iopub.status.idle": "2023-11-25T18:31:09.334582Z",
     "shell.execute_reply": "2023-11-25T18:31:09.334246Z",
     "shell.execute_reply.started": "2023-11-25T18:31:09.114999Z"
    }
   },
   "outputs": [
    {
     "data": {
      "text/plain": [
       "SIMPLE  =                    T / Java FITS: Fri Nov 24 17:04:46 PST 2023        \n",
       "BITPIX  =                    8 / bits per data value                            \n",
       "NAXIS   =                    0 / number of axes                                 \n",
       "EXTEND  =                    T / Extensions are permitted                       \n",
       "DATE    = '2023-11-25T18:16:57.311' / Creation Date and Time of File            \n",
       "MJD     =   60273.761774432845 / Modified Julian Date that the file was written \n",
       "RUNNUM  = '13593   '           / The Run Number                                 \n",
       "CCD_MANU= 'ITL     '           / CCD Manufacturer                               \n",
       "CCD_TYPE= '3800C   '           / CCD Model Number                               \n",
       "TESTTYPE= 'FLAT' / BIAS, DARK, FE55, FLAT, LAMBDA, PERSISTENCE, SPOT, SFLAT_<lam\n",
       "IMGTYPE = 'FLAT    '           / BIAS, DARK, FE55, FLAT, FLAT_<lam>, SPOT, PPUMP\n",
       "DETSIZE = '[1:4072,1:4000]'                                                     \n",
       "EXPTIME =                 15.0 / Exposure Time in Seconds                       \n",
       "FILENAME= 'MC_C_20231125_000312_R44_SG0.fits' / Original name of the file       \n",
       "BINX    =                    1 / [pixels] binning along X axis                  \n",
       "BINY    =                    1 / [pixels] binning along Y axis                  \n",
       "CCDGAIN =                  1.0 / Rough guess at overall system gain (e-/DNB)    \n",
       "CCDNOISE=                 10.0 / Rough guess at system noise (e- rms)           \n",
       "DATE-OBS= '2023-11-25T18:16:42.207' / Time at the start of integration          \n",
       "MJD-OBS =    60273.76159961801 / Modified Julian Date derived from DATE-BEG     \n",
       "DATE-TRG= '2023-11-25T18:16:57.301' / TAI Date of the image trigger (readout)   \n",
       "MJD-TRG =    60273.76177431736 / Modified Julian Date of image trigger          \n",
       "IMAGETAG= 'dd6f9b0fd71965db'   / DAQ Image id (Hex)                             \n",
       "CCDSLOT = 'SG0     '           / The CCD Slot                                   \n",
       "RAFTBAY = 'R44     '           / The RAFT Bay                                   \n",
       "FIRMWARE= '2139200b'           / DAQ firmware version (Hex)                     \n",
       "PLATFORM= 'ir2-camera'         / DAQ platform version                           \n",
       "CONTNUM = '189205a1'           / REB serial # (Hex)                             \n",
       "DAQVERS = 'R5-V7.1 2023-11-09T23:31:52Z (d5c05aa5)' / DAQ version               \n",
       "DAQPART = 'camera  '           / DAQ partition                                  \n",
       "DAQFOLD = 'raw     '           / DAQ folder the image was initially created in  \n",
       "OBSANNOT= '        '           / DAQ image annotation                           \n",
       "OBSID   = 'MC_C_20231125_000312' / The image name or obs-id                     \n",
       "CAMCODE = 'MC      '           / The \"code\" for AuxTel | ComCam | Main Camera   \n",
       "CONTRLLR= 'C       '           / The controller (e.g. O for OCS, C for CCS)     \n",
       "DAYOBS  = '20231125'          / The observation day as defined in the image name\n",
       "SEQNUM  =                  312 / The sequence number from the image name        \n",
       "HEADVER =                    2 / Version number of header                       \n",
       "INSTRUME= 'lsstCam '           / Instrument                                     \n",
       "TELESCOP= 'LSST    '           / Telescope                                      \n",
       "TSTAND  = 'BOT     '           / Camera test stand BOT or CCOB                  \n",
       "SEQFILE = 'FP_ITL_2s_ir2_v26.seq' / Sequencer file name                         \n",
       "SEQCKSUM= '1606982964'         / Checksum of Sequencer                          \n",
       "LSST_NUM= 'ITL-3800C-332'      / LSST Assigned CCD Number                       \n",
       "CCD_SERN= '24751   '           / Manufacturers? CCD Serial Number               \n",
       "REBNAME = 'LCA-13540-09'       / LSST Assigned Name REB name                    \n",
       "RAFTNAME= 'LCA-10692_CRTM-0005' / LSST Assigned Raft name                       \n",
       "DARKTIME=              15.1031 / Dark Time in Seconds (see TSEIA-91)            \n",
       "TSEQNUM =                  121 / Sequence number within current test            \n",
       "FPVERS  = '1.2.5-SNAPSHOT'     / The focal-plane version number                 \n",
       "IHVERS  = '1.1.5-SNAPSHOT'     / The image-handling version number              \n",
       "DATE-BEG= '2023-11-25T18:16:42.207' / Time at the start of integration          \n",
       "MJD-BEG =    60273.76159961801 / Modified Julian Date derived from DATE-BEG     \n",
       "DATE-END= '2023-11-25T18:16:57.310' / End date of the observation               \n",
       "MJD-END =   60273.761774421204 / MJD derived from DATE-END                      \n",
       "TIMESYS = 'TAI     '           / The time scale used                            \n",
       "FILTER  = 'NONE    '           / Main camera filter                             \n",
       "FILTER1 =                      / SFLAT target level                             \n",
       "FILTER2 =                                                                       \n",
       "TEMPLED1=              32.8992 / CCOB daughter board temperature in deg C, front\n",
       "TEMPLED2=              32.0918 / CCOB daughter board temperature in deg C, back \n",
       "TEMPBRD =              36.5831 / CCOB board temperature in deg C                \n",
       "CCOBLED = 'uv      '           / Selected CCOB LED                              \n",
       "CCOBCURR=                0.273 / CCOB LED current in A                          \n",
       "CCOBADC =             5.4154 / CCOB Photodiode value in seconds (after exposure)\n",
       "CCOBFLST=              8.61951 / CCOB flash time in seconds (commanded)         \n",
       "PROJTIME=              11.0806 / CCOB flash time in seconds(measured)           \n",
       "CCOBFLUX=              46120.0 / CCOB target flux                               \n",
       "DATEPBEG= '2023-11-25T18:16:42.282' / Begin time that CCOB flashes              \n",
       "MJDPBEG =      60273.761600486 / Begin time that CCOB flashes in MJD            \n",
       "DATEPEND= '2023-11-25T18:16:53.362' / End time that CCOB flashes                \n",
       "MJDPEND =    60273.76172872679 / End time that CCOB flashes in MJD              \n",
       "CATKW101=                      / Camera coord for B axis [deg]                  \n",
       "CATKW102=                      / Motor coord for B axis [deg]                   \n",
       "CATKW103=                      / Camera coord for U axis [deg]                  \n",
       "CATKW104=                      / Motor coord for U axis [deg]                   \n",
       "CATKW105=                      / Camera coord for X axis [mm]                   \n",
       "CATKW106=                      / Motor coord for X axis [mm]                    \n",
       "CATKW107=                      / Camera coord for Y axis [mm]                   \n",
       "CATKW108=                      / Motor coord for Y axis [mm]                    \n",
       "CATKW109=                      / carriage-L1S1 plane sep                        \n",
       "CATKW10A=                      / Inc at surface CCOB [deg]                      \n",
       "CATKW10B=                      / CCS x @ surface CCOB [mm]                      \n",
       "CATKW10C=                      / CCS y @ surface CCOB [mm]                      \n",
       "CATKW10D=                      / Inc at surface FP [deg]                        \n",
       "CATKW10E=                      / CCS x @ surface FP [mm]                        \n",
       "CATKW10F=                      / CCS y @ surface FP [mm]                        \n",
       "CATKW110=                      / Inc at surface FS1 [deg]                       \n",
       "CATKW111=                      / CCS x @ surface FS1 [mm]                       \n",
       "CATKW112=                      / CCS y @ surface FS1 [mm]                       \n",
       "CATKW113=                      / Inc at surface FS2 [deg]                       \n",
       "CATKW114=                      / CCS x @ surface FS2 [mm]                       \n",
       "CATKW115=                      / CCS y @ surface FS2 [mm]                       \n",
       "CATKW116=                      / Inc at surface L1S1 [deg]                      \n",
       "CATKW117=                      / CCS x @ surface L1S1 [mm]                      \n",
       "CATKW118=                      / CCS y @ surface L1S1 [mm]                      \n",
       "CATKW119=                      / Inc at surface L1S2 [deg]                      \n",
       "CATKW11A=                      / CCS x @ surface L1S2 [mm]                      \n",
       "CATKW11B=                      / CCS y @ surface L1S2 [mm]                      \n",
       "CATKW11C=                      / Inc at surface L2S1 [deg]                      \n",
       "CATKW11D=                      / CCS x @ surface L2S1 [mm]                      \n",
       "CATKW11E=                      / CCS y @ surface L2S1 [mm]                      \n",
       "CATKW11F=                      / Inc at surface L2S2 [deg]                      \n",
       "CATKW120=                      / CCS x @ surface L2S2 [mm]                      \n",
       "CATKW121=                      / CCS y @ surface L2S2 [mm]                      \n",
       "CATKW122=                      / Inc at surface L3S1 [deg]                      \n",
       "CATKW123=                      / CCS x @ surface L3S1 [mm]                      \n",
       "CATKW124=                      / CCS y @ surface L3S1 [mm]                      \n",
       "CATKW125=                      / Inc at surface L3S2 [deg]                      \n",
       "CATKW126=                      / CCS x @ surface L3S2 [mm]                      \n",
       "CATKW127=                      / CCS y @ surface L3S2 [mm]                      \n",
       "CATKW128=                      / Conv test at FP for plan [mm]                  \n",
       "CATKW129=                      / HSS req open time [sec]                        \n",
       "CATKW12A=                      / Req FP exp time [sec]                          \n",
       "CATKW12B=                      / FLT model used [ugrizy,none]                   \n",
       "CATKW12C=                      / Unique expo catalog ID [hex]                   \n",
       "CATKW12D=                      / HC wavelength setting [nm]                     \n",
       "CATKW12E=                     / PD used for shutter time calc (check calib) [nA]\n",
       "CATKW130=                      / Sensor addr target, [Rij_Skl[_Cmn]]            \n",
       "CATKW131=                      / Trg ph lvl for flat top [phot/pixel]           \n",
       "CATKW132=                      / Trg ph lvl for total [phot]                    \n",
       "        ---- Checksums ----                                                     \n",
       "CHECKSUM= 'VADTY4BQVABQV3BQ'   / checksum for the current HDU                   \n",
       "DATASUM = '0       '           / checksum of the data records                   "
      ]
     },
     "execution_count": 39,
     "metadata": {},
     "output_type": "execute_result"
    }
   ],
   "source": [
    "obj=s3.get_object(Bucket='rubin-sts',Key=o['Contents'][0]['Key'])\n",
    "\n",
    "fsspec_kwargs = {\n",
    "    \"default_block_size\": 100000,\n",
    "    \"default_cache_type\": \"bytes\",\n",
    "    \"endpoint_url\": \"https://s3dfrgw.slac.stanford.edu\"\n",
    "}\n",
    "\n",
    "fh=fits.open(f\"s3://rubin-sts/{o['Contents'][0]['Key']}\",use_fsspec=True,fsspec_kwargs = fsspec_kwargs)\n",
    "fh[0].header"
   ]
  },
  {
   "cell_type": "code",
   "execution_count": 57,
   "id": "6e8b1e78-a9b4-46fd-a4dc-380656a6cd73",
   "metadata": {
    "execution": {
     "iopub.execute_input": "2023-11-25T18:49:15.174077Z",
     "iopub.status.busy": "2023-11-25T18:49:15.173539Z",
     "iopub.status.idle": "2023-11-25T18:49:15.212165Z",
     "shell.execute_reply": "2023-11-25T18:49:15.211533Z",
     "shell.execute_reply.started": "2023-11-25T18:49:15.174061Z"
    }
   },
   "outputs": [
    {
     "ename": "AttributeError",
     "evalue": "'HDUList' object has no attribute 'getMaskedImage'",
     "output_type": "error",
     "traceback": [
      "\u001b[0;31m---------------------------------------------------------------------------\u001b[0m",
      "\u001b[0;31mAttributeError\u001b[0m                            Traceback (most recent call last)",
      "Cell \u001b[0;32mIn[57], line 24\u001b[0m\n\u001b[1;32m     21\u001b[0m \u001b[38;5;28;01mfrom\u001b[39;00m \u001b[38;5;21;01mastropy\u001b[39;00m\u001b[38;5;21;01m.\u001b[39;00m\u001b[38;5;21;01mio\u001b[39;00m \u001b[38;5;28;01mimport\u001b[39;00m fits\n\u001b[1;32m     22\u001b[0m \u001b[38;5;28;01mfrom\u001b[39;00m \u001b[38;5;21;01mastropy\u001b[39;00m\u001b[38;5;21;01m.\u001b[39;00m\u001b[38;5;21;01mutils\u001b[39;00m\u001b[38;5;21;01m.\u001b[39;00m\u001b[38;5;21;01mdata\u001b[39;00m \u001b[38;5;28;01mimport\u001b[39;00m get_pkg_data_filename\n\u001b[0;32m---> 24\u001b[0m \u001b[43mdisplay\u001b[49m\u001b[43m(\u001b[49m\u001b[43mfh\u001b[49m\u001b[43m)\u001b[49m\n",
      "Cell \u001b[0;32mIn[57], line 7\u001b[0m, in \u001b[0;36mdisplay\u001b[0;34m(exposure, title, frame)\u001b[0m\n\u001b[1;32m      5\u001b[0m afw_display\u001b[38;5;241m.\u001b[39mscale(\u001b[38;5;124m'\u001b[39m\u001b[38;5;124masinh\u001b[39m\u001b[38;5;124m'\u001b[39m, \u001b[38;5;124m'\u001b[39m\u001b[38;5;124mzscale\u001b[39m\u001b[38;5;124m'\u001b[39m)\n\u001b[1;32m      6\u001b[0m afw_display\u001b[38;5;241m.\u001b[39msetMaskTransparency(\u001b[38;5;241m90\u001b[39m)\n\u001b[0;32m----> 7\u001b[0m afw_display\u001b[38;5;241m.\u001b[39mmtv(\u001b[43mexposure\u001b[49m\u001b[38;5;241;43m.\u001b[39;49m\u001b[43mgetMaskedImage\u001b[49m())\n\u001b[1;32m      9\u001b[0m maskPlaneDict \u001b[38;5;241m=\u001b[39m exposure\u001b[38;5;241m.\u001b[39mgetMask()\u001b[38;5;241m.\u001b[39mgetMaskPlaneDict()\n\u001b[1;32m     10\u001b[0m maskKeyColorList \u001b[38;5;241m=\u001b[39m []\n",
      "\u001b[0;31mAttributeError\u001b[0m: 'HDUList' object has no attribute 'getMaskedImage'"
     ]
    },
    {
     "data": {
      "text/plain": [
       "<Figure size 640x480 with 0 Axes>"
      ]
     },
     "metadata": {},
     "output_type": "display_data"
    }
   ],
   "source": [
    "import lsst.afw.display as afwDisplay\n",
    "\n",
    "def display(exposure,title=None,frame=0):\n",
    "    afw_display = afwDisplay.Display(frame=frame, backend='matplotlib')\n",
    "    afw_display.scale('asinh', 'zscale')\n",
    "    afw_display.setMaskTransparency(90)\n",
    "    afw_display.mtv(exposure.getMaskedImage())\n",
    "    \n",
    "    maskPlaneDict = exposure.getMask().getMaskPlaneDict()\n",
    "    maskKeyColorList = []\n",
    "    for k in maskPlaneDict.keys():\n",
    "        if afw_display.getMaskPlaneColor(k) is not None:\n",
    "            maskKeyColorList.append(k + \":\" + afw_display.getMaskPlaneColor(k))\n",
    "    print(maskKeyColorList)\n",
    "    plt.title(title)\n",
    "\n",
    "\n",
    "import matplotlib.pyplot as plt\n",
    "\n",
    "from astropy.wcs import WCS\n",
    "from astropy.io import fits\n",
    "from astropy.utils.data import get_pkg_data_filename\n",
    "\n",
    "display(fh)"
   ]
  },
  {
   "cell_type": "code",
   "execution_count": 13,
   "id": "afe66137-e0a6-4f8e-8107-899dd30207b2",
   "metadata": {
    "execution": {
     "iopub.execute_input": "2023-12-07T16:58:06.803942Z",
     "iopub.status.busy": "2023-12-07T16:58:06.803756Z",
     "iopub.status.idle": "2023-12-07T16:58:07.036021Z",
     "shell.execute_reply": "2023-12-07T16:58:07.035623Z",
     "shell.execute_reply.started": "2023-12-07T16:58:06.803929Z"
    }
   },
   "outputs": [
    {
     "data": {
      "text/plain": [
       "498"
      ]
     },
     "execution_count": 13,
     "metadata": {},
     "output_type": "execute_result"
    }
   ],
   "source": [
    "from lsst.daf.butler import Butler\n",
    "\n",
    "repo_path = \"/repo/ir2\"\n",
    "butler = Butler(repo_path,collections=['LSSTCam/photodiode','LSSTCam/raw/all'],instrument='LSSTCam')\n",
    "registry = butler.registry\n"
   ]
  },
  {
   "cell_type": "code",
   "execution_count": 22,
   "id": "e62891e6-f765-4d5a-a604-6d34e0d9b4e6",
   "metadata": {
    "execution": {
     "iopub.execute_input": "2023-12-07T17:05:43.587190Z",
     "iopub.status.busy": "2023-12-07T17:05:43.586988Z",
     "iopub.status.idle": "2023-12-07T17:05:44.252713Z",
     "shell.execute_reply": "2023-12-07T17:05:44.252216Z",
     "shell.execute_reply.started": "2023-12-07T17:05:43.587176Z"
    }
   },
   "outputs": [
    {
     "name": "stdout",
     "output_type": "stream",
     "text": [
      "13537 1242\n",
      "13571 1264\n",
      "13573 1242\n",
      "13575 71\n",
      "13518 31\n",
      "13519 336\n",
      "13520 257\n",
      "13521 320\n",
      "13593 498\n",
      "13594 1824\n"
     ]
    }
   ],
   "source": [
    "for runnum in [\n",
    "    '13537',\n",
    "    '13571',\n",
    "    '13573',\n",
    "    '13575',\n",
    "    '13518',\n",
    "    '13519',\n",
    "    '13520',\n",
    "    '13521',\n",
    "    '13593',\n",
    "    '13594'\n",
    "]:\n",
    "    print(runnum, len(list(registry.queryDimensionRecords('exposure',where=f'exposure.science_program=\\'{runnum:s}\\''))))"
   ]
  },
  {
   "cell_type": "code",
   "execution_count": 44,
   "id": "33713cdd-d966-4afc-a6c1-18d26ddba199",
   "metadata": {
    "execution": {
     "iopub.execute_input": "2023-12-07T17:39:32.684399Z",
     "iopub.status.busy": "2023-12-07T17:39:32.684181Z",
     "iopub.status.idle": "2023-12-07T17:39:32.703981Z",
     "shell.execute_reply": "2023-12-07T17:39:32.703571Z",
     "shell.execute_reply.started": "2023-12-07T17:39:32.684384Z"
    }
   },
   "outputs": [
    {
     "name": "stdout",
     "output_type": "stream",
     "text": [
      "[exposure.RecordClass(instrument='LSSTCam', id=2023111902385, physical_filter='ef_43', obs_id='MC_C_20231119_002385', exposure_time=15.0, dark_time=15.1038, observation_type='flat', observation_reason='flat', day_obs=20231119, seq_num=2385, seq_start=2385, seq_end=2385, group_name='2023111902385', group_id=2023111902385, target_name='UNKNOWN', science_program='13573', tracking_ra=None, tracking_dec=None, sky_angle=None, azimuth=None, zenith_angle=None, has_simulated=False, timespan=Timespan(begin=astropy.time.Time('2023-11-20 01:33:18.183998', scale='tai', format='iso'), end=astropy.time.Time('2023-11-20 01:33:33.287000', scale='tai', format='iso')))]\n"
     ]
    }
   ],
   "source": [
    "print(list(registry.queryDimensionRecords('exposure',where=f'exposure.science_program=\\'{runnum:s}\\' and exposure.obs_id=\\'{obs_id}\\'' )))\n"
   ]
  },
  {
   "cell_type": "code",
   "execution_count": 76,
   "id": "962a853b-c925-4da8-afe4-8e8b0fd43888",
   "metadata": {
    "execution": {
     "iopub.execute_input": "2023-12-07T18:35:14.780992Z",
     "iopub.status.busy": "2023-12-07T18:35:14.780545Z",
     "iopub.status.idle": "2023-12-07T19:11:42.973831Z",
     "shell.execute_reply": "2023-12-07T19:11:42.973410Z",
     "shell.execute_reply.started": "2023-12-07T18:35:14.780972Z"
    }
   },
   "outputs": [
    {
     "name": "stdout",
     "output_type": "stream",
     "text": [
      "MC_C_20231119_000672 54\n",
      "MC_C_20231119_000673 166\n",
      "MC_C_20231119_000674 124\n",
      "MC_C_20231119_000676 124\n",
      "MC_C_20231119_000677 151\n",
      "MC_C_20231119_000683 178\n",
      "MC_C_20231119_001254 151\n",
      "MC_C_20231119_001255 202\n",
      "MC_C_20231119_001257 178\n",
      "MC_C_20231119_001258 178\n",
      "MC_C_20231119_001259 178\n",
      "MC_C_20231107_000167 103\n",
      "MC_C_20231107_000459 204\n",
      "MC_C_20231107_000669 203\n",
      "MC_C_20231107_000670 204\n",
      "MC_C_20231107_000671 203\n",
      "MC_C_20231107_000674 202\n",
      "MC_C_20231107_000675 202\n",
      "MC_C_20231107_000676 204\n",
      "MC_C_20231107_000677 202\n",
      "MC_C_20231107_000678 177\n",
      "MC_C_20231107_000679 177\n",
      "MC_C_20231107_000680 177\n",
      "MC_C_20231107_000681 204\n",
      "MC_C_20231107_000700 178\n",
      "MC_C_20231108_000022 199\n",
      "MC_C_20231108_000053 178\n",
      "MC_C_20231108_000103 178\n",
      "MC_C_20231108_000104 178\n",
      "MC_C_20231108_000119 184\n",
      "MC_C_20231108_000120 199\n",
      "MC_C_20231108_000124 178\n",
      "MC_C_20231108_000154 178\n",
      "MC_C_20231108_000171 178\n",
      "MC_C_20231108_000184 178\n",
      "MC_C_20231108_000311 204\n",
      "MC_C_20231108_000313 204\n",
      "MC_C_20231108_000315 178\n",
      "MC_C_20231108_000316 178\n",
      "MC_C_20231108_000317 178\n",
      "MC_C_20231108_000318 178\n"
     ]
    }
   ],
   "source": [
    "for runnum in [\n",
    "    '13537',\n",
    "    '13571',\n",
    "    '13573',\n",
    "    '13575',\n",
    "    '13518',\n",
    "    '13519',\n",
    "    '13520',\n",
    "    '13521',\n",
    "    '13593',\n",
    "    '13594'\n",
    "]:\n",
    "    obs_ids = list(set([ x.obs_id for x in list(registry.queryDimensionRecords('exposure',where=f'exposure.science_program=\\'{runnum:s}\\'')) ]))\n",
    "    sorted(obs_ids)\n",
    "    for obs_id in sorted(obs_ids):\n",
    "        n=len(list(registry.queryDatasets('raw',where=f'exposure.science_program=\\'{runnum:s}\\' and exposure.obs_id=\\'{obs_id}\\'')))\n",
    "        if n==205:\n",
    "            continue\n",
    "        print(obs_id, n)"
   ]
  },
  {
   "cell_type": "code",
   "execution_count": 64,
   "id": "c4b65b86-089a-49dd-b99c-3573b38fc75f",
   "metadata": {
    "execution": {
     "iopub.execute_input": "2023-12-07T17:48:41.132573Z",
     "iopub.status.busy": "2023-12-07T17:48:41.132380Z",
     "iopub.status.idle": "2023-12-07T17:48:41.439160Z",
     "shell.execute_reply": "2023-12-07T17:48:41.438635Z",
     "shell.execute_reply.started": "2023-12-07T17:48:41.132561Z"
    }
   },
   "outputs": [],
   "source": [
    "ref=list(registry.queryDatasets('raw',where=f'exposure.obs_id=\\'MC_C_20231108_000313\\''))[0]"
   ]
  },
  {
   "cell_type": "code",
   "execution_count": 68,
   "id": "ffaef6b1-819b-44a1-8114-b578a815417b",
   "metadata": {
    "execution": {
     "iopub.execute_input": "2023-12-07T17:48:59.364879Z",
     "iopub.status.busy": "2023-12-07T17:48:59.364702Z",
     "iopub.status.idle": "2023-12-07T17:48:59.457560Z",
     "shell.execute_reply": "2023-12-07T17:48:59.457127Z",
     "shell.execute_reply.started": "2023-12-07T17:48:59.364866Z"
    }
   },
   "outputs": [
    {
     "data": {
      "text/plain": [
       "SIMPLE  =                    T / Java FITS: Mon Nov 06 17:26:59 PST 2023        \n",
       "BITPIX  =                    8 / bits per data value                            \n",
       "NAXIS   =                    0 / number of axes                                 \n",
       "EXTEND  =                    T / Extensions are permitted                       \n",
       "DATE    = '2023-11-08T17:58:28.500' / Creation Date and Time of File            \n",
       "MJD     =   60256.748940972146 / Modified Julian Date that the file was written \n",
       "RUNNUM  = '13521   '           / The Run Number                                 \n",
       "CCD_MANU= 'E2V     '           / CCD Manufacturer                               \n",
       "CCD_TYPE= 'CCD250  '           / CCD Model Number                               \n",
       "TESTTYPE= 'BOT_PERSISTENCE' / BIAS, DARK, FE55, FLAT, LAMBDA, PERSISTENCE, SPOT,\n",
       "IMGTYPE = 'FLAT    '           / BIAS, DARK, FE55, FLAT, FLAT_<lam>, SPOT, PPUMP\n",
       "DETSIZE = '[1:4096,1:4004]'                                                     \n",
       "EXPTIME =                 15.0 / Exposure Time in Seconds                       \n",
       "FILENAME= 'MC_C_20231108_000313_R34_S11.fits' / Original name of the file       \n",
       "BINX    =                    1 / [pixels] binning along X axis                  \n",
       "BINY    =                    1 / [pixels] binning along Y axis                  \n",
       "CCDGAIN =                  1.0 / Rough guess at overall system gain (e-/DNB)    \n",
       "CCDNOISE=                 10.0 / Rough guess at system noise (e- rms)           \n",
       "DATE-OBS= '2023-11-08T17:58:13.231' / Time at the start of integration          \n",
       "MJD-OBS =    60256.74876424763 / Modified Julian Date derived from DATE-BEG     \n",
       "DATE-TRG= '2023-11-08T17:58:28.493' / TAI Date of the image trigger (readout)   \n",
       "MJD-TRG =    60256.74894089112 / Modified Julian Date of image trigger          \n",
       "IMAGETAG= 'cf4c448953be270f'   / DAQ Image id (Hex)                             \n",
       "CCDSLOT = 'S11     '           / The CCD Slot                                   \n",
       "RAFTBAY = 'R34     '           / The RAFT Bay                                   \n",
       "FIRMWARE= '3139500e'           / DAQ firmware version (Hex)                     \n",
       "PLATFORM= 'ir2-camera'         / DAQ platform version                           \n",
       "CONTNUM = '18ef1464'           / REB serial # (Hex)                             \n",
       "DAQVERS = 'R5-V6.9 2023-09-11T17:05:01Z (9eb7c3ed)' / DAQ version               \n",
       "DAQPART = 'camera  '           / DAQ partition                                  \n",
       "DAQFOLD = 'raw     '           / DAQ folder the image was initially created in  \n",
       "OBSANNOT= '        '           / DAQ image annotation                           \n",
       "OBSID   = 'MC_C_20231108_000313' / The image name or obs-id                     \n",
       "CAMCODE = 'MC      '           / The \"code\" for AuxTel | ComCam | Main Camera   \n",
       "CONTRLLR= 'C       '           / The controller (e.g. O for OCS, C for CCS)     \n",
       "DAYOBS  = '20231108'          / The observation day as defined in the image name\n",
       "SEQNUM  =                  313 / The sequence number from the image name        \n",
       "HEADVER =                    2 / Version number of header                       \n",
       "INSTRUME= 'lsstCam '           / Instrument                                     \n",
       "TELESCOP= 'LSST    '           / Telescope                                      \n",
       "TSTAND  = 'BOT     '           / Camera test stand BOT or CCOB                  \n",
       "SEQFILE = 'FP_E2V_2s_ir2_v26.seq' / Sequencer file name                         \n",
       "SEQCKSUM= '1010041586'         / Checksum of Sequencer                          \n",
       "LSST_NUM= 'E2V-CCD250-194'     / LSST Assigned CCD Number                       \n",
       "CCD_SERN= '15462-24-04'        / Manufacturers? CCD Serial Number               \n",
       "REBNAME = 'LCA-13574-043'      / LSST Assigned Name REB name                    \n",
       "RAFTNAME= 'LCA-11021_RTM-008'  / LSST Assigned Raft name                        \n",
       "DARKTIME=               15.268 / Dark Time in Seconds (see TSEIA-91)            \n",
       "TSEQNUM =                  309 / Sequence number within current test            \n",
       "FPVERS  = '1.2.4   '           / The focal-plane version number                 \n",
       "IHVERS  = '1.1.4   '           / The image-handling version number              \n",
       "DATE-BEG= '2023-11-08T17:58:13.231' / Time at the start of integration          \n",
       "MJD-BEG =    60256.74876424763 / Modified Julian Date derived from DATE-BEG     \n",
       "DATE-END= '2023-11-08T17:58:28.499' / End date of the observation               \n",
       "MJD-END =   60256.748940960504 / MJD derived from DATE-END                      \n",
       "TIMESYS = 'TAI     '           / The time scale used                            \n",
       "FILTER  = 'ph_05   '           / Main camera filter                             \n",
       "FILTER1 =                      / SFLAT target level                             \n",
       "FILTER2 =                                                                       \n",
       "TEMPLED1=              22.7408 / CCOB daughter board temperature in deg C, front\n",
       "TEMPLED2=              24.0129 / CCOB daughter board temperature in deg C, back \n",
       "TEMPBRD =              30.3163 / CCOB board temperature in deg C                \n",
       "CCOBLED = 'blue    '           / Selected CCOB LED                              \n",
       "CCOBCURR=                0.273 / CCOB LED current in A                          \n",
       "CCOBADC =            21.5681 / CCOB Photodiode value in seconds (after exposure)\n",
       "CCOBFLST=              13.4785 / CCOB flash time in seconds (commanded)         \n",
       "PROJTIME=               15.155 / CCOB flash time in seconds(measured)           \n",
       "CCOBFLUX=            1600000.0 / CCOB target flux                               \n",
       "DATEPBEG= '2023-11-08T17:58:13.307' / Begin time that CCOB flashes              \n",
       "MJDPBEG =    60256.74876512727 / Begin time that CCOB flashes in MJD            \n",
       "DATEPEND= '2023-11-08T17:58:28.462' / End time that CCOB flashes                \n",
       "MJDPEND =    60256.74894053256 / End time that CCOB flashes in MJD              \n",
       "CATKW101=                      / Camera coord for B axis [deg]                  \n",
       "CATKW102=                      / Motor coord for B axis [deg]                   \n",
       "CATKW103=                      / Camera coord for U axis [deg]                  \n",
       "CATKW104=                      / Motor coord for U axis [deg]                   \n",
       "CATKW105=                      / Camera coord for X axis [mm]                   \n",
       "CATKW106=                      / Motor coord for X axis [mm]                    \n",
       "CATKW107=                      / Camera coord for Y axis [mm]                   \n",
       "CATKW108=                      / Motor coord for Y axis [mm]                    \n",
       "CATKW109=                      / carriage-L1S1 plane sep                        \n",
       "CATKW10A=                      / Inc at surface CCOB [deg]                      \n",
       "CATKW10B=                      / CCS x @ surface CCOB [mm]                      \n",
       "CATKW10C=                      / CCS y @ surface CCOB [mm]                      \n",
       "CATKW10D=                      / Inc at surface FP [deg]                        \n",
       "CATKW10E=                      / CCS x @ surface FP [mm]                        \n",
       "CATKW10F=                      / CCS y @ surface FP [mm]                        \n",
       "CATKW110=                      / Inc at surface FS1 [deg]                       \n",
       "CATKW111=                      / CCS x @ surface FS1 [mm]                       \n",
       "CATKW112=                      / CCS y @ surface FS1 [mm]                       \n",
       "CATKW113=                      / Inc at surface FS2 [deg]                       \n",
       "CATKW114=                      / CCS x @ surface FS2 [mm]                       \n",
       "CATKW115=                      / CCS y @ surface FS2 [mm]                       \n",
       "CATKW116=                      / Inc at surface L1S1 [deg]                      \n",
       "CATKW117=                      / CCS x @ surface L1S1 [mm]                      \n",
       "CATKW118=                      / CCS y @ surface L1S1 [mm]                      \n",
       "CATKW119=                      / Inc at surface L1S2 [deg]                      \n",
       "CATKW11A=                      / CCS x @ surface L1S2 [mm]                      \n",
       "CATKW11B=                      / CCS y @ surface L1S2 [mm]                      \n",
       "CATKW11C=                      / Inc at surface L2S1 [deg]                      \n",
       "CATKW11D=                      / CCS x @ surface L2S1 [mm]                      \n",
       "CATKW11E=                      / CCS y @ surface L2S1 [mm]                      \n",
       "CATKW11F=                      / Inc at surface L2S2 [deg]                      \n",
       "CATKW120=                      / CCS x @ surface L2S2 [mm]                      \n",
       "CATKW121=                      / CCS y @ surface L2S2 [mm]                      \n",
       "CATKW122=                      / Inc at surface L3S1 [deg]                      \n",
       "CATKW123=                      / CCS x @ surface L3S1 [mm]                      \n",
       "CATKW124=                      / CCS y @ surface L3S1 [mm]                      \n",
       "CATKW125=                      / Inc at surface L3S2 [deg]                      \n",
       "CATKW126=                      / CCS x @ surface L3S2 [mm]                      \n",
       "CATKW127=                      / CCS y @ surface L3S2 [mm]                      \n",
       "CATKW128=                      / Conv test at FP for plan [mm]                  \n",
       "CATKW129=                      / HSS req open time [sec]                        \n",
       "CATKW12A=                      / Req FP exp time [sec]                          \n",
       "CATKW12B=                      / FLT model used [ugrizy,none]                   \n",
       "CATKW12C=                      / Unique expo catalog ID [hex]                   \n",
       "CATKW12D=                      / HC wavelength setting [nm]                     \n",
       "CATKW12E=                     / PD used for shutter time calc (check calib) [nA]\n",
       "CATKW130=                      / Sensor addr target, [Rij_Skl[_Cmn]]            \n",
       "CATKW131=                      / Trg ph lvl for flat top [phot/pixel]           \n",
       "CATKW132=                      / Trg ph lvl for total [phot]                    \n",
       "        ---- Checksums ----                                                     \n",
       "CHECKSUM= 'jkkGjiiEjiiEjiiE'   / checksum for the current HDU                   \n",
       "DATASUM = '0       '           / checksum of the data records                   "
      ]
     },
     "execution_count": 68,
     "metadata": {},
     "output_type": "execute_result"
    }
   ],
   "source": [
    "from astropy.io import fits\n",
    "fsspec_kwargs = {\n",
    "    \"default_block_size\": 100000,\n",
    "    \"default_cache_type\": \"bytes\",\n",
    "    \"endpoint_url\": \"https://s3dfrgw.slac.stanford.edu\"\n",
    "}\n",
    "fh=fits.open(butler.getURI(ref).geturl(),use_fsspec=True,\n",
    "              fsspec_kwargs = fsspec_kwargs)\n",
    "fh[0].header"
   ]
  },
  {
   "cell_type": "code",
   "execution_count": 70,
   "id": "3d74d67f-7e8f-4969-8f0d-3413cecefd89",
   "metadata": {
    "execution": {
     "iopub.execute_input": "2023-12-07T18:02:07.432170Z",
     "iopub.status.busy": "2023-12-07T18:02:07.431638Z",
     "iopub.status.idle": "2023-12-07T18:02:07.724271Z",
     "shell.execute_reply": "2023-12-07T18:02:07.723907Z",
     "shell.execute_reply.started": "2023-12-07T18:02:07.432156Z"
    }
   },
   "outputs": [
    {
     "data": {
      "text/plain": [
       "202"
      ]
     },
     "execution_count": 70,
     "metadata": {},
     "output_type": "execute_result"
    }
   ],
   "source": [
    "len(list(registry.queryDatasets('raw',where=f'exposure.obs_id=\\'MC_C_20231107_000675\\'')))"
   ]
  },
  {
   "cell_type": "code",
   "execution_count": null,
   "id": "1a9bf466-de8d-49d3-84dc-9da4d815e519",
   "metadata": {},
   "outputs": [],
   "source": []
  }
 ],
 "metadata": {
  "kernelspec": {
   "display_name": "LSST",
   "language": "python",
   "name": "lsst"
  },
  "language_info": {
   "codemirror_mode": {
    "name": "ipython",
    "version": 3
   },
   "file_extension": ".py",
   "mimetype": "text/x-python",
   "name": "python",
   "nbconvert_exporter": "python",
   "pygments_lexer": "ipython3",
   "version": "3.11.7"
  }
 },
 "nbformat": 4,
 "nbformat_minor": 5
}
